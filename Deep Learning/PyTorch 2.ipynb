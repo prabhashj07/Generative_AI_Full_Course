{
 "cells": [
  {
   "cell_type": "code",
   "execution_count": 1,
   "id": "059727dd-d937-43a3-a735-c8505386f32a",
   "metadata": {},
   "outputs": [
    {
     "data": {
      "text/plain": [
       "'2.3.0+cu121'"
      ]
     },
     "execution_count": 1,
     "metadata": {},
     "output_type": "execute_result"
    }
   ],
   "source": [
    "import torch\n",
    "from torch import nn # nn contains all of PyTorch's building blocks for neural networks\n",
    "import matplotlib.pyplot as plt\n",
    "\n",
    "# Check PyTorch version\n",
    "torch.__version__"
   ]
  },
  {
   "cell_type": "code",
   "execution_count": 2,
   "id": "d4168b8b-1da0-4935-abbe-0f398fbd31b1",
   "metadata": {},
   "outputs": [],
   "source": [
    "what_were_covering = {1: \"data preparation and loading\",\n",
    "    2: \"build model\",\n",
    "    3: \"fitting the model to data (training)\",\n",
    "    4: \"making predictions and evaluating a model (inference)\",\n",
    "    5: \"saving and loading a model\",\n",
    "    6: \"putting it all together\"\n",
    "}"
   ]
  },
  {
   "cell_type": "markdown",
   "id": "94360b6b-e193-49cc-9220-acae07ca1197",
   "metadata": {},
   "source": [
    "### 1. Data Preparation and Loading "
   ]
  },
  {
   "cell_type": "markdown",
   "id": "8b8e01ca-a117-4947-b8ac-5ec676f66d2c",
   "metadata": {},
   "source": [
    "Data can be anything.... \n",
    "It could be images,videos,excel spreadsheets,audio,DNA,Text. \n",
    "\n",
    "Machine learning is game of two parts: \n",
    "1. Get the data into numerical representation.\n",
    "2. Build a model to learn pattern in numerical representation.\n",
    "\n",
    "We'll use a linear regression formula to make a straight line with known **paramaters**."
   ]
  },
  {
   "cell_type": "code",
   "execution_count": 3,
   "id": "22068e31-632d-4012-b96d-f0aab634f442",
   "metadata": {},
   "outputs": [
    {
     "data": {
      "text/plain": [
       "(tensor([[0.0000],\n",
       "         [0.0200],\n",
       "         [0.0400],\n",
       "         [0.0600],\n",
       "         [0.0800],\n",
       "         [0.1000],\n",
       "         [0.1200],\n",
       "         [0.1400],\n",
       "         [0.1600],\n",
       "         [0.1800]]),\n",
       " tensor([[0.3000],\n",
       "         [0.3140],\n",
       "         [0.3280],\n",
       "         [0.3420],\n",
       "         [0.3560],\n",
       "         [0.3700],\n",
       "         [0.3840],\n",
       "         [0.3980],\n",
       "         [0.4120],\n",
       "         [0.4260]]))"
      ]
     },
     "execution_count": 3,
     "metadata": {},
     "output_type": "execute_result"
    }
   ],
   "source": [
    "# Create *known* parameters\n",
    "weight = 0.7\n",
    "bias = 0.3\n",
    "\n",
    "# Create data\n",
    "start = 0\n",
    "end = 1\n",
    "step = 0.02\n",
    "X = torch.arange(start, end, step).unsqueeze(dim=1) # unsqueeze adds extra dimension\n",
    "y = weight * X + bias\n",
    "\n",
    "X[:10], y[:10]"
   ]
  },
  {
   "cell_type": "code",
   "execution_count": 4,
   "id": "5d133362-4da3-4327-9d04-b1f6ebff0029",
   "metadata": {},
   "outputs": [
    {
     "data": {
      "text/plain": [
       "(50, 50)"
      ]
     },
     "execution_count": 4,
     "metadata": {},
     "output_type": "execute_result"
    }
   ],
   "source": [
    "len(X), len(y)"
   ]
  },
  {
   "cell_type": "markdown",
   "id": "94368072-4a7a-49fa-970e-7ecdd4581868",
   "metadata": {},
   "source": [
    "### Splitting data into training and test sets"
   ]
  },
  {
   "cell_type": "markdown",
   "id": "16f2b23a-852b-4b00-b932-c40b9e2d04ac",
   "metadata": {},
   "source": [
    "Training set - Course material \n",
    "Validation set - Practise set \n",
    "Test set - Final exam \n",
    "\n",
    "Generalization - The ability of Ml model to perform well on data it hasn't seen before. \n",
    "\n",
    "Validation set is often but not always used. \n",
    "\n",
    "Training set ~ 60 -80 % \n",
    "Validation set ~ 10 - 20 % \n",
    "Testing set ~ 10 - 20 %"
   ]
  },
  {
   "cell_type": "code",
   "execution_count": 5,
   "id": "37137f51-572a-413b-97a8-d6ac0e65d483",
   "metadata": {},
   "outputs": [
    {
     "data": {
      "text/plain": [
       "(40, 40, 40, 10)"
      ]
     },
     "execution_count": 5,
     "metadata": {},
     "output_type": "execute_result"
    }
   ],
   "source": [
    "# create a train/test spllit \n",
    "train_split = int(0.8 * len(X))\n",
    "X_train, y_train = X[:train_split], y[:train_split]\n",
    "X_test, y_test = X[train_split:], y[train_split:]\n",
    "\n",
    "len(X_train), len(y_train), len(X_train), len(X_test)"
   ]
  },
  {
   "cell_type": "code",
   "execution_count": 6,
   "id": "e7994d31-9ca5-4e46-811e-debc15dcbd72",
   "metadata": {},
   "outputs": [
    {
     "data": {
      "text/plain": [
       "(tensor([[0.0000],\n",
       "         [0.0200],\n",
       "         [0.0400],\n",
       "         [0.0600],\n",
       "         [0.0800],\n",
       "         [0.1000],\n",
       "         [0.1200],\n",
       "         [0.1400],\n",
       "         [0.1600],\n",
       "         [0.1800],\n",
       "         [0.2000],\n",
       "         [0.2200],\n",
       "         [0.2400],\n",
       "         [0.2600],\n",
       "         [0.2800],\n",
       "         [0.3000],\n",
       "         [0.3200],\n",
       "         [0.3400],\n",
       "         [0.3600],\n",
       "         [0.3800],\n",
       "         [0.4000],\n",
       "         [0.4200],\n",
       "         [0.4400],\n",
       "         [0.4600],\n",
       "         [0.4800],\n",
       "         [0.5000],\n",
       "         [0.5200],\n",
       "         [0.5400],\n",
       "         [0.5600],\n",
       "         [0.5800],\n",
       "         [0.6000],\n",
       "         [0.6200],\n",
       "         [0.6400],\n",
       "         [0.6600],\n",
       "         [0.6800],\n",
       "         [0.7000],\n",
       "         [0.7200],\n",
       "         [0.7400],\n",
       "         [0.7600],\n",
       "         [0.7800]]),\n",
       " tensor([[0.3000],\n",
       "         [0.3140],\n",
       "         [0.3280],\n",
       "         [0.3420],\n",
       "         [0.3560],\n",
       "         [0.3700],\n",
       "         [0.3840],\n",
       "         [0.3980],\n",
       "         [0.4120],\n",
       "         [0.4260],\n",
       "         [0.4400],\n",
       "         [0.4540],\n",
       "         [0.4680],\n",
       "         [0.4820],\n",
       "         [0.4960],\n",
       "         [0.5100],\n",
       "         [0.5240],\n",
       "         [0.5380],\n",
       "         [0.5520],\n",
       "         [0.5660],\n",
       "         [0.5800],\n",
       "         [0.5940],\n",
       "         [0.6080],\n",
       "         [0.6220],\n",
       "         [0.6360],\n",
       "         [0.6500],\n",
       "         [0.6640],\n",
       "         [0.6780],\n",
       "         [0.6920],\n",
       "         [0.7060],\n",
       "         [0.7200],\n",
       "         [0.7340],\n",
       "         [0.7480],\n",
       "         [0.7620],\n",
       "         [0.7760],\n",
       "         [0.7900],\n",
       "         [0.8040],\n",
       "         [0.8180],\n",
       "         [0.8320],\n",
       "         [0.8460]]))"
      ]
     },
     "execution_count": 6,
     "metadata": {},
     "output_type": "execute_result"
    }
   ],
   "source": [
    "X_train, y_train"
   ]
  },
  {
   "cell_type": "code",
   "execution_count": 7,
   "id": "31d726d0-bb45-43f5-bc06-9d467ad35e76",
   "metadata": {},
   "outputs": [],
   "source": [
    "# Build a function to visualize the data \n",
    "def plot_prediction(train_data = X_train,\n",
    "                    train_labels = y_train, \n",
    "                    test_data = X_test,\n",
    "                    test_labels = y_test,\n",
    "                    prediction=None):\n",
    "    plt.figure(figsize = (5,5))\n",
    "\n",
    "    # plot training the data in blue \n",
    "    plt.scatter(train_data, train_labels, c = \"b\", s = 4, label = \"Training Data\")\n",
    "\n",
    "    # plot the testing data in green\n",
    "    plt.scatter(test_data, test_labels, c = \"g\", s= 4, label =\"Testing Data\")\n",
    "\n",
    "    # Are there prediction? \n",
    "    if prediction is not None:\n",
    "               # plot the prediction if they exit \n",
    "               plt.scatter(test_data, prediction, c =\"r\", s= 4, label=\"Prediction\")\n",
    "    \n",
    "    # show the legend\n",
    "    plt.legend(prop = {\"size\": 14});"
   ]
  },
  {
   "cell_type": "code",
   "execution_count": 8,
   "id": "24501c28-01bb-4376-9a31-7cd95ac8e133",
   "metadata": {},
   "outputs": [
    {
     "data": {
      "image/png": "[encoded data removed]",
      "text/plain": [
       "<Figure size 500x500 with 1 Axes>"
      ]
     },
     "metadata": {},
     "output_type": "display_data"
    }
   ],
   "source": [
    "plot_prediction()"
   ]
  },
  {
   "cell_type": "markdown",
   "id": "535fb21f-3ce6-4934-8015-ee80a4eb8f8d",
   "metadata": {},
   "source": [
    "### Build model \n",
    "What our model does:\n",
    "* Start with random value (weight & bias)\n",
    "* Look at training data and adjust the random values to better represent (or get closer to) the ideal value (the weight & bias values we used to create the data)\n",
    "\n",
    "How does it do so? \n",
    "Through two main algorithms: \n",
    "* Gradient descent\n",
    "* Backpropagation"
   ]
  },
  {
   "cell_type": "code",
   "execution_count": 9,
   "id": "baf93a0f-62cc-427c-82f2-d81b68ad1f52",
   "metadata": {},
   "outputs": [],
   "source": [
    "# Create linear regression model class \n",
    "class LinearRegressionModel(nn.Module):# <- almost everything in pytorch inherits from nn.Module\n",
    "    def __init__(self):\n",
    "        super().__init__()\n",
    "        self.weight = nn.Parameter(torch.randn(1,\n",
    "                                               requires_grad = True,\n",
    "                                               dtype = torch.float))\n",
    "        \n",
    "        self.bias = nn.Parameter(torch.randn(1,\n",
    "                                            requires_grad=True,\n",
    "                                            dtype=torch.float))\n",
    "\n",
    "    # Forward method to define the computation in the model \n",
    "    def forward(self, x: torch.Tensor) -> torch.Tensor: \n",
    "        \"\"\"\n",
    "        x: torch.Tensor: This indicates that the input x is expected to be a PyTorch tensor.\n",
    "        -> torch.Tensor: This specifies that the output of the forward method is also a PyTorch tensor.\n",
    "        \"\"\"\n",
    "        return self.weight * x + self.bias # this is linear regression formula "
   ]
  },
  {
   "cell_type": "markdown",
   "id": "ca49aa62-5b0d-4beb-93c2-a032e19061bb",
   "metadata": {},
   "source": [
    "#### PyTorch model building essentials \n",
    "\n",
    "* torch.nn - contains all of the building blocks for computational graphs(a the neural networks).\n",
    "* torch.nn.Parameter - what parameters should our model try and learn, often a PyTorch layer from torch.nn will set these for us.\n",
    "* torch.nn.Module - the base class for all neural network module, if you subclass it, you should overwrite forward()\n",
    "* torch.optim - this is where the optimizers in PyTorch live, they will help with gradient descent. # optimizers e.g. gradient descent, ADAM, etc.\n",
    "* def forward() - All nn.Module subclasses require you to overwrite forward(), this method define what happen in forward computation.\n",
    "* torch.utils.data.Dataset - Represent a map between key(label) and sample(feature) pairs of your data. Such a images and their associated labels.\n",
    "* torch.utils.data.DataLoader - Creates a python iterable over a torch Dataset (allows you to iterate over your data).\n",
    "* torch.nn.functional - layers, activations and more\n",
    "  > Read more - www.pytorch.org/tutorials/beginner/ptcheat.html"
   ]
  },
  {
   "cell_type": "code",
   "execution_count": 10,
   "id": "9cdc2b07-f839-421c-8e87-27117672a067",
   "metadata": {},
   "outputs": [],
   "source": [
    "# checking the content of our pytorch model \n",
    "# create a random seed \n",
    "torch.manual_seed(42)\n",
    "\n",
    "# create an instance of the model( this is a subclass of the nn.Module) \n",
    "model = LinearRegressionModel()"
   ]
  },
  {
   "cell_type": "code",
   "execution_count": 11,
   "id": "a2c76553-5e75-44f8-91b3-7976e837e238",
   "metadata": {},
   "outputs": [
    {
     "data": {
      "text/plain": [
       "LinearRegressionModel()"
      ]
     },
     "execution_count": 11,
     "metadata": {},
     "output_type": "execute_result"
    }
   ],
   "source": [
    "model"
   ]
  },
  {
   "cell_type": "code",
   "execution_count": 12,
   "id": "83b74c4f-cf6a-4ae1-8548-f482417cc036",
   "metadata": {},
   "outputs": [
    {
     "data": {
      "text/plain": [
       "<generator object Module.parameters at 0x7fa44cbf0c80>"
      ]
     },
     "execution_count": 12,
     "metadata": {},
     "output_type": "execute_result"
    }
   ],
   "source": [
    "model.parameters()"
   ]
  },
  {
   "cell_type": "code",
   "execution_count": 13,
   "id": "2327f2c6-9d1f-4574-b5dd-93fc2e733f37",
   "metadata": {},
   "outputs": [
    {
     "data": {
      "text/plain": [
       "[Parameter containing:\n",
       " tensor([0.3367], requires_grad=True),\n",
       " Parameter containing:\n",
       " tensor([0.1288], requires_grad=True)]"
      ]
     },
     "execution_count": 13,
     "metadata": {},
     "output_type": "execute_result"
    }
   ],
   "source": [
    "list(model.parameters())"
   ]
  },
  {
   "cell_type": "code",
   "execution_count": 14,
   "id": "0a72dd3a-7079-4c81-b05b-f8417ef85803",
   "metadata": {},
   "outputs": [
    {
     "data": {
      "text/plain": [
       "OrderedDict([('weight', tensor([0.3367])), ('bias', tensor([0.1288]))])"
      ]
     },
     "execution_count": 14,
     "metadata": {},
     "output_type": "execute_result"
    }
   ],
   "source": [
    "# list named parameters \n",
    "model.state_dict()"
   ]
  },
  {
   "cell_type": "code",
   "execution_count": 15,
   "id": "90bcb3cf-997e-4f4e-80f0-13a7479a0d91",
   "metadata": {},
   "outputs": [
    {
     "data": {
      "text/plain": [
       "(0.7, 0.3)"
      ]
     },
     "execution_count": 15,
     "metadata": {},
     "output_type": "execute_result"
    }
   ],
   "source": [
    "weight, bias"
   ]
  },
  {
   "cell_type": "markdown",
   "id": "4b158543-79dc-4576-9229-80be4a547f05",
   "metadata": {},
   "source": [
    "The better we get ([('weight', tensor([0.3367])), ('bias', tensor([0.1288]))]) value closer to (0.7, 0.3) the better we are able to predict and model. "
   ]
  },
  {
   "cell_type": "code",
   "execution_count": 16,
   "id": "75e67eb1-66f8-483f-8cfc-46a73b3eda76",
   "metadata": {},
   "outputs": [
    {
     "data": {
      "text/plain": [
       "tensor([[0.3982],\n",
       "        [0.4049],\n",
       "        [0.4116],\n",
       "        [0.4184],\n",
       "        [0.4251],\n",
       "        [0.4318],\n",
       "        [0.4386],\n",
       "        [0.4453],\n",
       "        [0.4520],\n",
       "        [0.4588]])"
      ]
     },
     "execution_count": 16,
     "metadata": {},
     "output_type": "execute_result"
    }
   ],
   "source": [
    "# making prediction using `torch.inference_mode()`\n",
    "# To check our model's predictive power, let's see how well it predicts `y_test` based on `x_test`.\n",
    "\n",
    "with torch.inference_mode():\n",
    "    y_preds = model(X_test)\n",
    "\n",
    "y_preds"
   ]
  },
  {
   "cell_type": "code",
   "execution_count": 17,
   "id": "4974afd9-4717-4bcb-bde8-080c6e0615ac",
   "metadata": {},
   "outputs": [
    {
     "data": {
      "text/plain": [
       "tensor([[0.8600],\n",
       "        [0.8740],\n",
       "        [0.8880],\n",
       "        [0.9020],\n",
       "        [0.9160],\n",
       "        [0.9300],\n",
       "        [0.9440],\n",
       "        [0.9580],\n",
       "        [0.9720],\n",
       "        [0.9860]])"
      ]
     },
     "execution_count": 17,
     "metadata": {},
     "output_type": "execute_result"
    }
   ],
   "source": [
    "y_test"
   ]
  },
  {
   "cell_type": "code",
   "execution_count": 18,
   "id": "aed727de-f7a4-41e5-a1e9-2b9f2e45eee4",
   "metadata": {},
   "outputs": [
    {
     "data": {
      "image/png": "[encoded data removed]",
      "text/plain": [
       "<Figure size 500x500 with 1 Axes>"
      ]
     },
     "metadata": {},
     "output_type": "display_data"
    }
   ],
   "source": [
    "plot_prediction(prediction = y_preds)"
   ]
  },
  {
   "cell_type": "markdown",
   "id": "b9220464-c593-4197-a437-e13a376f40af",
   "metadata": {},
   "source": [
    "#### Train model \n",
    "The whole idea of training is for a model from some *unknown* parameters (these may be random) to some *known* parameters. \n",
    "Or in other words from a poor representation of the data to a better representation of the data. \n",
    "\n",
    "One way to measure how poor or how wrong your models prediction are is to use loss function. \n",
    "\n",
    "* NOTE: Loss function may also be called cost function or criterion in different areas. For our case, we're going to refer to it as a loss function.\n",
    "\n",
    "Things we need to train:\n",
    "* **Loss function**: A function to measure how wrong your model's predictiosns are to the ideal outputs, lower is better.\n",
    "* **Optimizer**: Take into account the loss of a model and adjusts the model's parameters (e.g. weight & bias in our case) to improve the loss function.\n",
    "\n",
    "And specifically in pytorch, we need: \n",
    "* A training loop\n",
    "* A testing loop "
   ]
  },
  {
   "cell_type": "code",
   "execution_count": 21,
   "id": "bca66d3f-d341-4b97-9064-d163bd765fec",
   "metadata": {},
   "outputs": [
    {
     "data": {
      "text/plain": [
       "[Parameter containing:\n",
       " tensor([0.3367], requires_grad=True),\n",
       " Parameter containing:\n",
       " tensor([0.1288], requires_grad=True)]"
      ]
     },
     "execution_count": 21,
     "metadata": {},
     "output_type": "execute_result"
    }
   ],
   "source": [
    "list(model.parameters())"
   ]
  },
  {
   "cell_type": "code",
   "execution_count": 29,
   "id": "436210f7-d416-4afa-b05d-2fc132bf971f",
   "metadata": {},
   "outputs": [
    {
     "data": {
      "text/plain": [
       "OrderedDict([('weight', tensor([0.3367])), ('bias', tensor([0.1288]))])"
      ]
     },
     "execution_count": 29,
     "metadata": {},
     "output_type": "execute_result"
    }
   ],
   "source": [
    "# Check out the model's parameter (a parameter is a value that the model sets itself) \n",
    "model.state_dict()"
   ]
  },
  {
   "cell_type": "code",
   "execution_count": 32,
   "id": "430a29d9-af1d-4808-9302-5946950fbe66",
   "metadata": {},
   "outputs": [],
   "source": [
    "# Setup a loss function \n",
    "loss_fn = nn.L1Loss()\n",
    "\n",
    "# Setup an optimizer \n",
    "optimizer = torch.optim.SGD(params = model.parameters(), \n",
    "                           lr=0.01) # lr = learning rate = possibly the most important hyperparameter you can set "
   ]
  },
  {
   "cell_type": "markdown",
   "id": "a22b97f4-bafe-4bc5-9822-489109633724",
   "metadata": {},
   "source": [
    "#### Building a training loop (and a testing loop) in pytorch\n",
    "A couple of things we need in a training loop : \n",
    "* Loop through the data\n",
    "* Forward pass ( this involves data moving through our model's `forward()` function) to make prediction on data - also called forward propagation.\n",
    "* Calculate the loss (compare forward pass predictions to ground truth labels)\n",
    "* Optimizer zero grad\n",
    "* Loss Backward - move backward through the network to calculate the gradient of each of the parameters of our model with respect to the loss ( **backpropagation**)\n",
    "* Optimizer step - use the optimizer to adjust our model's parameters to try and improve the loss (**gradient descent**)"
   ]
  },
  {
   "cell_type": "code",
   "execution_count": null,
   "id": "bdf46ad7-6c8e-4bc5-ad63-177ab6cb0c1e",
   "metadata": {},
   "outputs": [],
   "source": []
  },
  {
   "cell_type": "code",
   "execution_count": null,
   "id": "ccc64dbd-fb83-4841-a8e6-04e2391042e5",
   "metadata": {},
   "outputs": [],
   "source": []
  },
  {
   "cell_type": "code",
   "execution_count": null,
   "id": "55987287-b6ee-48e0-96dc-2d9072dbf781",
   "metadata": {},
   "outputs": [],
   "source": []
  },
  {
   "cell_type": "code",
   "execution_count": null,
   "id": "e8b7a342-4b72-4c88-8832-342949868e71",
   "metadata": {},
   "outputs": [],
   "source": []
  }
 ],
 "metadata": {
  "kernelspec": {
   "display_name": "Python 3 (ipykernel)",
   "language": "python",
   "name": "python3"
  },
  "language_info": {
   "codemirror_mode": {
    "name": "ipython",
    "version": 3
   },
   "file_extension": ".py",
   "mimetype": "text/x-python",
   "name": "python",
   "nbconvert_exporter": "python",
   "pygments_lexer": "ipython3",
   "version": "3.11.4"
  }
 },
 "nbformat": 4,
 "nbformat_minor": 5
}
