{
 "cells": [
  {
   "cell_type": "markdown",
   "id": "d979b2f7-e7cc-4c1e-8dfa-a849c3c882e7",
   "metadata": {},
   "source": [
    "#### What is PyTorch ? \n",
    "PyTorch is an open source machine learning and deep leaning framework. "
   ]
  },
  {
   "cell_type": "markdown",
   "id": "0635a40c-f52e-4a0a-b239-a10607f41ad0",
   "metadata": {},
   "source": [
    "#### What can PyTorch be used for?\n",
    "PyTorch allows you to manipulate and process data and write machine learning algorithms using Python code."
   ]
  },
  {
   "cell_type": "markdown",
   "id": "dc40c1a3-5e0c-460f-a663-07e62aa49c70",
   "metadata": {},
   "source": [
    "####  Why use PyTorch?\n",
    "Machine learning researchers love using PyTorch. PyTorch is the most used deep learning framework on Papers With Code, a website for tracking machine learning research papers and the code repositories attached with them.\n",
    "\n",
    "PyTorch also helps take care of many things such as GPU acceleration (making your code run faster) behind the scenes.\n",
    "\n",
    "So you can focus on manipulating data and writing algorithms and PyTorch will make sure it runs fast.\n",
    "\n",
    "And if companies such as Tesla and Meta (Facebook) use it to build models they deploy to power hundreds of applications, drive thousands of cars and deliver content to billions of people, it's clearly capable on the development front too."
   ]
  },
  {
   "cell_type": "markdown",
   "id": "c21f4dee-aee1-4b5f-b38c-891d55a44ca8",
   "metadata": {},
   "source": [
    "#### Importing PyTorch "
   ]
  },
  {
   "cell_type": "code",
   "execution_count": 2,
   "id": "51de4b62-6ba7-46a3-ace2-b5789b7f37f1",
   "metadata": {},
   "outputs": [
    {
     "data": {
      "text/plain": [
       "'2.3.0+cu121'"
      ]
     },
     "execution_count": 2,
     "metadata": {},
     "output_type": "execute_result"
    }
   ],
   "source": [
    "import torch\n",
    "\n",
    "# check the version \n",
    "torch.__version__"
   ]
  },
  {
   "cell_type": "markdown",
   "id": "d480efd1-1569-4d9e-b194-40f4f8f06980",
   "metadata": {},
   "source": [
    "#### Introduction to Tensor \n",
    "Tensors are n-dimensional array. "
   ]
  },
  {
   "cell_type": "markdown",
   "id": "2cb8f468-647c-4891-a593-652f276ea8f0",
   "metadata": {},
   "source": [
    "#### Creating Tensor "
   ]
  },
  {
   "cell_type": "code",
   "execution_count": 6,
   "id": "c9f871fd-d0e4-483a-a83a-a99044ecca77",
   "metadata": {},
   "outputs": [
    {
     "name": "stdout",
     "output_type": "stream",
     "text": [
      "tensor(7)\n"
     ]
    }
   ],
   "source": [
    "# scalar \n",
    "# A scalar is a single number and in tensor-speak it's a zero dimension tensor.\n",
    "scalar = torch.tensor(7)\n",
    "print(scalar)"
   ]
  },
  {
   "cell_type": "code",
   "execution_count": 7,
   "id": "f9fcfb8b-b40d-4095-8571-25bee392ea1e",
   "metadata": {},
   "outputs": [
    {
     "data": {
      "text/plain": [
       "0"
      ]
     },
     "execution_count": 7,
     "metadata": {},
     "output_type": "execute_result"
    }
   ],
   "source": [
    "scalar.ndim"
   ]
  },
  {
   "cell_type": "code",
   "execution_count": 8,
   "id": "e844142d-0d08-4a9b-88a2-eda632bdf13c",
   "metadata": {},
   "outputs": [
    {
     "data": {
      "text/plain": [
       "7"
      ]
     },
     "execution_count": 8,
     "metadata": {},
     "output_type": "execute_result"
    }
   ],
   "source": [
    "# now if I want to retrieve the number from tensor \n",
    "# Get the Python number within a tensor (only works with one-element tensors)\n",
    "scalar.item()"
   ]
  },
  {
   "cell_type": "code",
   "execution_count": 14,
   "id": "3d4ec9a2-15cc-4608-b8a2-c1559f0400ed",
   "metadata": {},
   "outputs": [
    {
     "name": "stdout",
     "output_type": "stream",
     "text": [
      "tensor([1, 3, 4])\n"
     ]
    }
   ],
   "source": [
    "# vector \n",
    "# A vector is a single dimension tensor but can contain many numbers.\n",
    "vector = torch.tensor([1,3,4])\n",
    "print(vector)"
   ]
  },
  {
   "cell_type": "code",
   "execution_count": 15,
   "id": "0fe77f21-77f5-4439-857a-ec05b3dacfe0",
   "metadata": {},
   "outputs": [
    {
     "data": {
      "text/plain": [
       "1"
      ]
     },
     "execution_count": 15,
     "metadata": {},
     "output_type": "execute_result"
    }
   ],
   "source": [
    "vector.ndim"
   ]
  },
  {
   "cell_type": "markdown",
   "id": "34785a65-5cca-4ae2-8533-c74d5a1c6429",
   "metadata": {},
   "source": [
    "**Fun Fact**:You can tell the number of dimensions a tensor in PyTorch has by the number of square brackets on the outside ([) and you only need to count one side."
   ]
  },
  {
   "cell_type": "code",
   "execution_count": 16,
   "id": "abc97bbd-fb5e-496a-a49b-72020a0a78c6",
   "metadata": {},
   "outputs": [
    {
     "data": {
      "text/plain": [
       "torch.Size([3])"
      ]
     },
     "execution_count": 16,
     "metadata": {},
     "output_type": "execute_result"
    }
   ],
   "source": [
    "# check the shape of the vector \n",
    "vector.shape "
   ]
  },
  {
   "cell_type": "markdown",
   "id": "18330b2d-441e-444a-b30e-5eff8dc53c8a",
   "metadata": {},
   "source": [
    "vector has a shape of [3]. This is because of the two elements we placed inside the square brackets ([1,3,4])."
   ]
  },
  {
   "cell_type": "code",
   "execution_count": 18,
   "id": "5f8b9b98-201c-485b-a47e-28bd36125b8e",
   "metadata": {},
   "outputs": [
    {
     "data": {
      "text/plain": [
       "tensor([[1, 2],\n",
       "        [4, 5]])"
      ]
     },
     "execution_count": 18,
     "metadata": {},
     "output_type": "execute_result"
    }
   ],
   "source": [
    "# Matrix \n",
    "matrix = torch.tensor([[1,2],\n",
    "                       [4,5]])\n",
    "matrix "
   ]
  },
  {
   "cell_type": "code",
   "execution_count": 19,
   "id": "4d30ba95-c1a3-4e2e-b686-7e78247afdd3",
   "metadata": {},
   "outputs": [
    {
     "data": {
      "text/plain": [
       "2"
      ]
     },
     "execution_count": 19,
     "metadata": {},
     "output_type": "execute_result"
    }
   ],
   "source": [
    "matrix.ndim"
   ]
  },
  {
   "cell_type": "code",
   "execution_count": 20,
   "id": "8b9e434a-28cb-432e-b57f-25e687de639f",
   "metadata": {},
   "outputs": [
    {
     "data": {
      "text/plain": [
       "torch.Size([2, 2])"
      ]
     },
     "execution_count": 20,
     "metadata": {},
     "output_type": "execute_result"
    }
   ],
   "source": [
    "matrix.shape"
   ]
  },
  {
   "cell_type": "code",
   "execution_count": 21,
   "id": "f3deba70-f893-4286-a03e-51fb22016fcc",
   "metadata": {},
   "outputs": [
    {
     "data": {
      "text/plain": [
       "tensor([[[1, 2, 3],\n",
       "         [3, 3, 3],\n",
       "         [6, 6, 6]]])"
      ]
     },
     "execution_count": 21,
     "metadata": {},
     "output_type": "execute_result"
    }
   ],
   "source": [
    "# Tensor \n",
    "tensor = torch.tensor([[[1,2,3],\n",
    "                        [3,3,3],\n",
    "                        [6,6,6]]])\n",
    "tensor "
   ]
  },
  {
   "cell_type": "code",
   "execution_count": 22,
   "id": "3842eb92-2c28-4230-a69a-1387b67a797e",
   "metadata": {},
   "outputs": [
    {
     "data": {
      "text/plain": [
       "3"
      ]
     },
     "execution_count": 22,
     "metadata": {},
     "output_type": "execute_result"
    }
   ],
   "source": [
    "tensor.ndim"
   ]
  },
  {
   "cell_type": "code",
   "execution_count": 23,
   "id": "04fbdba1-33ed-4e67-ba14-0a3d424f39d2",
   "metadata": {},
   "outputs": [
    {
     "data": {
      "text/plain": [
       "torch.Size([1, 3, 3])"
      ]
     },
     "execution_count": 23,
     "metadata": {},
     "output_type": "execute_result"
    }
   ],
   "source": [
    "tensor.shape "
   ]
  },
  {
   "cell_type": "markdown",
   "id": "5c33a586-f0c3-4a39-853a-eb971bd28282",
   "metadata": {},
   "source": [
    "The dimensions go outer to inner.\n",
    "\n",
    "That means there's 1 dimension of 3 by 3."
   ]
  },
  {
   "cell_type": "code",
   "execution_count": 24,
   "id": "5dc371e1-51c2-40c5-bca1-2c49bdd7d5e6",
   "metadata": {},
   "outputs": [
    {
     "data": {
      "text/plain": [
       "tensor([[1, 2],\n",
       "        [3, 4],\n",
       "        [6, 7]])"
      ]
     },
     "execution_count": 24,
     "metadata": {},
     "output_type": "execute_result"
    }
   ],
   "source": [
    "tensor = torch.tensor([[1,2],\n",
    "                      [3,4],\n",
    "                      [6,7]])\n",
    "tensor "
   ]
  },
  {
   "cell_type": "code",
   "execution_count": 25,
   "id": "56397d6c-034e-4d53-8abb-c918afdf888d",
   "metadata": {},
   "outputs": [
    {
     "data": {
      "text/plain": [
       "torch.Size([3, 2])"
      ]
     },
     "execution_count": 25,
     "metadata": {},
     "output_type": "execute_result"
    }
   ],
   "source": [
    "tensor.shape "
   ]
  },
  {
   "cell_type": "code",
   "execution_count": 29,
   "id": "e9b8845f-f459-4205-8fb0-e21ff36738d2",
   "metadata": {},
   "outputs": [
    {
     "data": {
      "text/plain": [
       "(tensor([[-0.4492,  0.8362, -1.6632, -0.3478],\n",
       "         [ 0.9382,  0.1863,  1.2673,  0.0398],\n",
       "         [-1.0447,  1.3429,  0.8029, -0.1653]]),\n",
       " torch.float32)"
      ]
     },
     "execution_count": 29,
     "metadata": {},
     "output_type": "execute_result"
    }
   ],
   "source": [
    "# random tensor \n",
    "random_tensor = torch.randn(3,4)\n",
    "random_tensor , random_tensor.dtype"
   ]
  },
  {
   "cell_type": "code",
   "execution_count": 30,
   "id": "43652324-165c-43b6-a359-4248ca3149e1",
   "metadata": {},
   "outputs": [
    {
     "data": {
      "text/plain": [
       "(torch.Size([224, 224, 3]), 3)"
      ]
     },
     "execution_count": 30,
     "metadata": {},
     "output_type": "execute_result"
    }
   ],
   "source": [
    "# Create a random tensor of size (224, 224, 3) = img size \n",
    "random_image_size_tensor = torch.rand(size=(224, 224, 3))\n",
    "random_image_size_tensor.shape, random_image_size_tensor.ndim"
   ]
  },
  {
   "cell_type": "markdown",
   "id": "e1cafb41-95ff-46c0-a0fa-a2ef087758c6",
   "metadata": {},
   "source": [
    "#### Zeros and ones "
   ]
  },
  {
   "cell_type": "code",
   "execution_count": 34,
   "id": "199ce658-af7a-47a9-b85b-a0b3b8fb2bba",
   "metadata": {},
   "outputs": [
    {
     "data": {
      "text/plain": [
       "tensor([[0., 0., 0., 0.],\n",
       "        [0., 0., 0., 0.],\n",
       "        [0., 0., 0., 0.]])"
      ]
     },
     "execution_count": 34,
     "metadata": {},
     "output_type": "execute_result"
    }
   ],
   "source": [
    "zeros_tensor = torch.zeros(3,4)\n",
    "zeros_tensor"
   ]
  },
  {
   "cell_type": "code",
   "execution_count": 36,
   "id": "443d38d8-7f69-40b2-83bc-8c7494eba04e",
   "metadata": {},
   "outputs": [
    {
     "data": {
      "text/plain": [
       "tensor([[1., 1., 1., 1.],\n",
       "        [1., 1., 1., 1.],\n",
       "        [1., 1., 1., 1.]])"
      ]
     },
     "execution_count": 36,
     "metadata": {},
     "output_type": "execute_result"
    }
   ],
   "source": [
    "ones_tensor = torch.ones(3,4)\n",
    "ones_tensor"
   ]
  },
  {
   "cell_type": "markdown",
   "id": "ab5a56e9-a1b6-4860-9093-0def42ab75e0",
   "metadata": {},
   "source": [
    "#### Tensor DataType \n",
    "There are many different tensor datatypes available in PyTorch.\n",
    "\n",
    "Some are specific for CPU and some are better for GPU.\n",
    "\n",
    "Getting to know which is which can take some time.\n",
    "\n",
    "Generally if you see torch.cuda anywhere, the tensor is being used for GPU (since Nvidia GPUs use a computing toolkit called CUDA).\n",
    "\n",
    "The most common type (and generally the default) is torch.float32 or torch.float.\n",
    "\n",
    "This is referred to as \"32-bit floating point\".\n",
    "\n",
    "But there's also 16-bit floating point (torch.float16 or torch.half) and 64-bit floating point (torch.float64 or torch.double).\n",
    "\n",
    "And to confuse things even more there's also 8-bit, 16-bit, 32-bit and 64-bit integers."
   ]
  },
  {
   "cell_type": "code",
   "execution_count": 6,
   "id": "30d96a00-0942-4941-b209-fba5657c32c8",
   "metadata": {},
   "outputs": [
    {
     "data": {
      "text/plain": [
       "tensor([3., 6., 9.])"
      ]
     },
     "execution_count": 6,
     "metadata": {},
     "output_type": "execute_result"
    }
   ],
   "source": [
    "float32_tensor = torch.tensor([3.0, 6.0 ,9.0],\n",
    "                              requires_grad = False,\n",
    "                              device = None,\n",
    "                              dtype = None)\n",
    "\n",
    "float32_tensor"
   ]
  },
  {
   "cell_type": "code",
   "execution_count": 9,
   "id": "95f83978-2c4a-43be-b1ab-5c073bc7d177",
   "metadata": {},
   "outputs": [
    {
     "data": {
      "text/plain": [
       "(torch.Size([3]), torch.float32, device(type='cpu'))"
      ]
     },
     "execution_count": 9,
     "metadata": {},
     "output_type": "execute_result"
    }
   ],
   "source": [
    "float32_tensor.shape, float32_tensor.dtype, float32_tensor.device"
   ]
  },
  {
   "cell_type": "markdown",
   "id": "dcdeaf5b-8519-4b5e-bebd-21edce1b22ff",
   "metadata": {},
   "source": [
    "Aside from shape issues (tensor shapes don't match up), two of the other most common issues you'll come across in PyTorch are datatype and device issues.\n",
    "\n",
    "For example, one of tensors is torch.float32 and the other is torch.float16 (PyTorch often likes tensors to be the same format).\n",
    "\n",
    "Or one of your tensors is on the CPU and the other is on the GPU (PyTorch likes calculations between tensors to be on the same device)."
   ]
  },
  {
   "cell_type": "markdown",
   "id": "f9aa747e-be80-422f-8f8e-a34078433012",
   "metadata": {},
   "source": [
    "#### Tensor Multiplication "
   ]
  },
  {
   "cell_type": "code",
   "execution_count": 10,
   "id": "1e74a021-a119-4957-ab9e-335cca5ecff6",
   "metadata": {},
   "outputs": [
    {
     "data": {
      "text/plain": [
       "torch.Size([3])"
      ]
     },
     "execution_count": 10,
     "metadata": {},
     "output_type": "execute_result"
    }
   ],
   "source": [
    "tensor = torch.tensor([1,2,3])\n",
    "tensor.shape "
   ]
  },
  {
   "cell_type": "code",
   "execution_count": 13,
   "id": "d71bb8c0-3063-4bd5-9f53-7c1346c91298",
   "metadata": {},
   "outputs": [
    {
     "data": {
      "text/plain": [
       "tensor([1, 4, 9])"
      ]
     },
     "execution_count": 13,
     "metadata": {},
     "output_type": "execute_result"
    }
   ],
   "source": [
    "# Element-wise matrix multiplication\n",
    "tensor * tensor "
   ]
  },
  {
   "cell_type": "code",
   "execution_count": 14,
   "id": "32b0ac29-4807-4a1d-8242-80b03b2d6e27",
   "metadata": {},
   "outputs": [
    {
     "data": {
      "text/plain": [
       "tensor(14)"
      ]
     },
     "execution_count": 14,
     "metadata": {},
     "output_type": "execute_result"
    }
   ],
   "source": [
    "# Matrix multiplication\n",
    "torch.matmul(tensor, tensor)"
   ]
  },
  {
   "cell_type": "code",
   "execution_count": 15,
   "id": "ac07b299-2ec5-453c-81b8-11a6ad2f6cda",
   "metadata": {},
   "outputs": [
    {
     "data": {
      "text/plain": [
       "tensor(14)"
      ]
     },
     "execution_count": 15,
     "metadata": {},
     "output_type": "execute_result"
    }
   ],
   "source": [
    "# Can also use the \"@\" symbol for matrix multiplication, though not recommended\n",
    "tensor @ tensor"
   ]
  },
  {
   "cell_type": "code",
   "execution_count": null,
   "id": "fed90e2f-c778-4aaf-81be-7a8930c0dcb6",
   "metadata": {},
   "outputs": [],
   "source": []
  }
 ],
 "metadata": {
  "kernelspec": {
   "display_name": "Python 3 (ipykernel)",
   "language": "python",
   "name": "python3"
  },
  "language_info": {
   "codemirror_mode": {
    "name": "ipython",
    "version": 3
   },
   "file_extension": ".py",
   "mimetype": "text/x-python",
   "name": "python",
   "nbconvert_exporter": "python",
   "pygments_lexer": "ipython3",
   "version": "3.11.4"
  }
 },
 "nbformat": 4,
 "nbformat_minor": 5
}
