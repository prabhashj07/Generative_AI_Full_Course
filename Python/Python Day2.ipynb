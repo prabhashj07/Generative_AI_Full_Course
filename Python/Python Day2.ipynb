{
 "cells": [
  {
   "cell_type": "code",
   "execution_count": 1,
   "id": "b7692039-1828-46fa-b5bb-2b4c7b6397a0",
   "metadata": {},
   "outputs": [],
   "source": [
    "# list "
   ]
  },
  {
   "cell_type": "code",
   "execution_count": 2,
   "id": "31c18c63-fdf3-4f14-9a38-ba5cabbd4ece",
   "metadata": {},
   "outputs": [],
   "source": [
    "a = [ 1, 2, 4, 7 ] "
   ]
  },
  {
   "cell_type": "code",
   "execution_count": 3,
   "id": "6775da69-4339-486e-b4e8-4e080a069260",
   "metadata": {},
   "outputs": [],
   "source": [
    "a.append(4) # a. press tab to get func list"
   ]
  },
  {
   "cell_type": "code",
   "execution_count": 4,
   "id": "871beb12-720f-42ec-994a-d782c3d6045e",
   "metadata": {},
   "outputs": [
    {
     "data": {
      "text/plain": [
       "[1, 2, 4, 7, 4]"
      ]
     },
     "execution_count": 4,
     "metadata": {},
     "output_type": "execute_result"
    }
   ],
   "source": [
    "a"
   ]
  },
  {
   "cell_type": "code",
   "execution_count": 5,
   "id": "e91ba2e6-d02b-4d66-9196-f12ea21a0187",
   "metadata": {},
   "outputs": [],
   "source": [
    "a.insert(2, 34) # index - 2 value - 32 will be inserted "
   ]
  },
  {
   "cell_type": "code",
   "execution_count": 6,
   "id": "21f1ed36-0e82-4d98-9596-a30071e4ef94",
   "metadata": {},
   "outputs": [
    {
     "name": "stdout",
     "output_type": "stream",
     "text": [
      "[1, 2, 34, 4, 7, 4]\n"
     ]
    }
   ],
   "source": [
    "print(a) "
   ]
  },
  {
   "cell_type": "code",
   "execution_count": 7,
   "id": "31161305-b611-432e-bd48-4db14c06ff10",
   "metadata": {},
   "outputs": [
    {
     "data": {
      "text/plain": [
       "\u001b[0;31mSignature:\u001b[0m \u001b[0ma\u001b[0m\u001b[0;34m.\u001b[0m\u001b[0mremove\u001b[0m\u001b[0;34m(\u001b[0m\u001b[0mvalue\u001b[0m\u001b[0;34m,\u001b[0m \u001b[0;34m/\u001b[0m\u001b[0;34m)\u001b[0m\u001b[0;34m\u001b[0m\u001b[0;34m\u001b[0m\u001b[0m\n",
       "\u001b[0;31mDocstring:\u001b[0m\n",
       "Remove first occurrence of value.\n",
       "\n",
       "Raises ValueError if the value is not present.\n",
       "\u001b[0;31mType:\u001b[0m      builtin_function_or_method"
      ]
     },
     "metadata": {},
     "output_type": "display_data"
    }
   ],
   "source": [
    "a.remove?"
   ]
  },
  {
   "cell_type": "code",
   "execution_count": 8,
   "id": "ddf6b2e6-2038-4826-bb63-7470c27df56f",
   "metadata": {},
   "outputs": [],
   "source": [
    "a.remove(4) # removed first occurence of 4 "
   ]
  },
  {
   "cell_type": "code",
   "execution_count": 9,
   "id": "34c16607-e684-4050-9adc-7aaeb56b0ce1",
   "metadata": {},
   "outputs": [
    {
     "data": {
      "text/plain": [
       "[1, 2, 34, 7, 4]"
      ]
     },
     "execution_count": 9,
     "metadata": {},
     "output_type": "execute_result"
    }
   ],
   "source": [
    "a"
   ]
  },
  {
   "cell_type": "code",
   "execution_count": 10,
   "id": "678a0a00-d71e-4464-b110-e247a17d80c5",
   "metadata": {},
   "outputs": [],
   "source": [
    "a.reverse()"
   ]
  },
  {
   "cell_type": "code",
   "execution_count": 11,
   "id": "5681be0c-a4d3-4481-918e-d56cccc27edd",
   "metadata": {},
   "outputs": [
    {
     "data": {
      "text/plain": [
       "[4, 7, 34, 2, 1]"
      ]
     },
     "execution_count": 11,
     "metadata": {},
     "output_type": "execute_result"
    }
   ],
   "source": [
    "a"
   ]
  },
  {
   "cell_type": "code",
   "execution_count": 12,
   "id": "8c7d5a7f-7757-4fc2-a4a6-35448c8fce50",
   "metadata": {},
   "outputs": [],
   "source": [
    "# more details of the input function "
   ]
  },
  {
   "cell_type": "code",
   "execution_count": 13,
   "id": "b8bc046d-9c7c-4238-bf8e-1e3afc338530",
   "metadata": {},
   "outputs": [
    {
     "name": "stdin",
     "output_type": "stream",
     "text": [
      " 45\n"
     ]
    }
   ],
   "source": [
    "a = input()"
   ]
  },
  {
   "cell_type": "code",
   "execution_count": 14,
   "id": "a6915dee-24dd-4c0f-8055-1216f78ab546",
   "metadata": {},
   "outputs": [
    {
     "name": "stdin",
     "output_type": "stream",
     "text": [
      " 67\n"
     ]
    }
   ],
   "source": [
    "b = input()"
   ]
  },
  {
   "cell_type": "code",
   "execution_count": 15,
   "id": "98043303-338a-4723-8a29-577d489cf56c",
   "metadata": {},
   "outputs": [
    {
     "data": {
      "text/plain": [
       "'4567'"
      ]
     },
     "execution_count": 15,
     "metadata": {},
     "output_type": "execute_result"
    }
   ],
   "source": [
    "a + b # will get an string value as 3 and 78 are string. # concatenation"
   ]
  },
  {
   "cell_type": "code",
   "execution_count": 16,
   "id": "9b938f9f-443c-4ee0-a87a-692cc2d46113",
   "metadata": {},
   "outputs": [
    {
     "data": {
      "text/plain": [
       "112"
      ]
     },
     "execution_count": 16,
     "metadata": {},
     "output_type": "execute_result"
    }
   ],
   "source": [
    "int(a) + int(b) # casting "
   ]
  },
  {
   "cell_type": "code",
   "execution_count": 17,
   "id": "9435d1de-afc7-4f0c-aaf2-47d77225961e",
   "metadata": {},
   "outputs": [
    {
     "name": "stdin",
     "output_type": "stream",
     "text": [
      "Enter first number :  789\n",
      "Enter second number :  789\n"
     ]
    }
   ],
   "source": [
    "a = int(input(\"Enter first number : \"))\n",
    "b = int(input(\"Enter second number : \")) "
   ]
  },
  {
   "cell_type": "code",
   "execution_count": 18,
   "id": "e37a3314-92fb-4d58-b6fe-a65fdbf93397",
   "metadata": {},
   "outputs": [
    {
     "data": {
      "text/plain": [
       "789"
      ]
     },
     "execution_count": 18,
     "metadata": {},
     "output_type": "execute_result"
    }
   ],
   "source": [
    "a"
   ]
  },
  {
   "cell_type": "code",
   "execution_count": 19,
   "id": "324cd542-065a-4c50-acea-f6a052d72ea6",
   "metadata": {},
   "outputs": [
    {
     "data": {
      "text/plain": [
       "int"
      ]
     },
     "execution_count": 19,
     "metadata": {},
     "output_type": "execute_result"
    }
   ],
   "source": [
    "type(a)"
   ]
  },
  {
   "cell_type": "markdown",
   "id": "535d122d-85c7-4057-b06f-bc1e00849f39",
   "metadata": {},
   "source": [
    "#### Strip, split and join method "
   ]
  },
  {
   "cell_type": "code",
   "execution_count": 20,
   "id": "15482ae3-557a-4564-886e-be99a783cab0",
   "metadata": {},
   "outputs": [],
   "source": [
    "a = \"     2 77878  \""
   ]
  },
  {
   "cell_type": "code",
   "execution_count": 21,
   "id": "6db787b2-1c21-49be-91bd-5df4f7bc3a1c",
   "metadata": {},
   "outputs": [
    {
     "data": {
      "text/plain": [
       "'2 77878'"
      ]
     },
     "execution_count": 21,
     "metadata": {},
     "output_type": "execute_result"
    }
   ],
   "source": [
    "a.strip() # will remove any extra spaces not in between the number "
   ]
  },
  {
   "cell_type": "code",
   "execution_count": 22,
   "id": "9d522ced-6414-4ae5-8e88-acbca2967a6f",
   "metadata": {},
   "outputs": [
    {
     "data": {
      "text/plain": [
       "str"
      ]
     },
     "execution_count": 22,
     "metadata": {},
     "output_type": "execute_result"
    }
   ],
   "source": [
    "type(a) "
   ]
  },
  {
   "cell_type": "code",
   "execution_count": 23,
   "id": "448f1b6a-d4ff-4657-858e-02aac866dae1",
   "metadata": {},
   "outputs": [],
   "source": [
    "a =  \" 2 3 4 5 6 \" "
   ]
  },
  {
   "cell_type": "code",
   "execution_count": 24,
   "id": "032d7eec-4f13-4fb9-82f1-206856131412",
   "metadata": {},
   "outputs": [
    {
     "name": "stdout",
     "output_type": "stream",
     "text": [
      "['2', '3', '4', '5', '6']\n"
     ]
    }
   ],
   "source": [
    "a = a.split() # split the numbers according to the spaces and makes them list # breaking strings into strings \n",
    "print(a)"
   ]
  },
  {
   "cell_type": "code",
   "execution_count": 25,
   "id": "3fd24ba7-402c-496a-9634-a34df4fa4f17",
   "metadata": {},
   "outputs": [
    {
     "data": {
      "text/plain": [
       "\u001b[0;31mInit signature:\u001b[0m \u001b[0mmap\u001b[0m\u001b[0;34m(\u001b[0m\u001b[0mself\u001b[0m\u001b[0;34m,\u001b[0m \u001b[0;34m/\u001b[0m\u001b[0;34m,\u001b[0m \u001b[0;34m*\u001b[0m\u001b[0margs\u001b[0m\u001b[0;34m,\u001b[0m \u001b[0;34m**\u001b[0m\u001b[0mkwargs\u001b[0m\u001b[0;34m)\u001b[0m\u001b[0;34m\u001b[0m\u001b[0;34m\u001b[0m\u001b[0m\n",
       "\u001b[0;31mDocstring:\u001b[0m     \n",
       "map(func, *iterables) --> map object\n",
       "\n",
       "Make an iterator that computes the function using arguments from\n",
       "each of the iterables.  Stops when the shortest iterable is exhausted.\n",
       "\u001b[0;31mType:\u001b[0m           type\n",
       "\u001b[0;31mSubclasses:\u001b[0m     "
      ]
     },
     "metadata": {},
     "output_type": "display_data"
    }
   ],
   "source": [
    "# apply the int function to every element of the list \n",
    "?map"
   ]
  },
  {
   "cell_type": "code",
   "execution_count": 26,
   "id": "7c0bc6c8-90eb-4f1a-970d-754efdbb61da",
   "metadata": {},
   "outputs": [
    {
     "data": {
      "text/plain": [
       "[2, 3, 4, 5, 6]"
      ]
     },
     "execution_count": 26,
     "metadata": {},
     "output_type": "execute_result"
    }
   ],
   "source": [
    "li = list(map(int, a))\n",
    "li"
   ]
  },
  {
   "cell_type": "code",
   "execution_count": 27,
   "id": "19457bfd-c46b-4573-b888-3f154e99bcc0",
   "metadata": {},
   "outputs": [
    {
     "data": {
      "text/plain": [
       "20"
      ]
     },
     "execution_count": 27,
     "metadata": {},
     "output_type": "execute_result"
    }
   ],
   "source": [
    "sum(li)"
   ]
  },
  {
   "cell_type": "code",
   "execution_count": 28,
   "id": "688cfbf1-1036-47ea-b512-be311aff8892",
   "metadata": {},
   "outputs": [
    {
     "name": "stdin",
     "output_type": "stream",
     "text": [
      " 1 3 2 45 6\n"
     ]
    }
   ],
   "source": [
    "# join\n",
    "li = input()"
   ]
  },
  {
   "cell_type": "code",
   "execution_count": 29,
   "id": "52db40cf-ee4d-46cd-ac64-e2a46f6f367d",
   "metadata": {},
   "outputs": [
    {
     "data": {
      "text/plain": [
       "'1 3 2 45 6'"
      ]
     },
     "execution_count": 29,
     "metadata": {},
     "output_type": "execute_result"
    }
   ],
   "source": [
    "li"
   ]
  },
  {
   "cell_type": "code",
   "execution_count": 30,
   "id": "a151be5d-6bd1-436f-a619-0e68585ef2f1",
   "metadata": {},
   "outputs": [
    {
     "name": "stdout",
     "output_type": "stream",
     "text": [
      "['1', '3', '2', '45', '6']\n"
     ]
    }
   ],
   "source": [
    "li = li.split()\n",
    "print(li)"
   ]
  },
  {
   "cell_type": "code",
   "execution_count": 31,
   "id": "8c4e5aac-b548-457e-a2b4-fa018782d003",
   "metadata": {},
   "outputs": [
    {
     "data": {
      "text/plain": [
       "'1-3-2-45-6'"
      ]
     },
     "execution_count": 31,
     "metadata": {},
     "output_type": "execute_result"
    }
   ],
   "source": [
    "\"-\".join(li) # concatenated string having - in between them "
   ]
  },
  {
   "cell_type": "code",
   "execution_count": 32,
   "id": "403e461c-b804-4df5-a6a0-36fa154a9f5e",
   "metadata": {},
   "outputs": [
    {
     "data": {
      "text/plain": [
       "'1 3 2 45 6'"
      ]
     },
     "execution_count": 32,
     "metadata": {},
     "output_type": "execute_result"
    }
   ],
   "source": [
    "\" \".join(li)"
   ]
  },
  {
   "cell_type": "code",
   "execution_count": 33,
   "id": "dc95eff1-48f3-45ae-ad96-df01fdbda734",
   "metadata": {},
   "outputs": [
    {
     "data": {
      "text/plain": [
       "'132456'"
      ]
     },
     "execution_count": 33,
     "metadata": {},
     "output_type": "execute_result"
    }
   ],
   "source": [
    "\"\".join(li)"
   ]
  },
  {
   "cell_type": "markdown",
   "id": "f144dd88-16fc-4c57-addd-f994f9e74154",
   "metadata": {},
   "source": [
    "#### String formatting"
   ]
  },
  {
   "cell_type": "code",
   "execution_count": 34,
   "id": "9a506e85-88e3-43f5-9957-9fe7429520ea",
   "metadata": {},
   "outputs": [
    {
     "name": "stdout",
     "output_type": "stream",
     "text": [
      "The values are  23 and  34\n"
     ]
    }
   ],
   "source": [
    "a = 23 \n",
    "b = 34 \n",
    "print(\"The values are \",a , \"and \", b)"
   ]
  },
  {
   "cell_type": "code",
   "execution_count": 35,
   "id": "af667df7-7924-4ab5-9d09-a91a34eb73a7",
   "metadata": {},
   "outputs": [
    {
     "name": "stdout",
     "output_type": "stream",
     "text": [
      "The values are 23 and 34\n"
     ]
    }
   ],
   "source": [
    "# same thing \n",
    "print(\"The values are {} and {}\".format(a,b)) # used two placeholder {}. "
   ]
  },
  {
   "cell_type": "code",
   "execution_count": 36,
   "id": "9a00c8b4-ff72-44db-9007-9ea2e86ae002",
   "metadata": {},
   "outputs": [
    {
     "name": "stdout",
     "output_type": "stream",
     "text": [
      "The value are 23 and 34\n"
     ]
    }
   ],
   "source": [
    "# the best way \n",
    "# f string \n",
    "print(f\"The value are {a} and {b}\")"
   ]
  },
  {
   "cell_type": "markdown",
   "id": "541ac6ed-c7b0-4b3e-abba-a2ec7da25ca0",
   "metadata": {},
   "source": [
    "## OOP \n",
    "###### very very very important\n",
    "Dividing programs into parts or blocks."
   ]
  },
  {
   "cell_type": "code",
   "execution_count": 37,
   "id": "7100cc58-99e0-420f-b12a-54af0436eeb4",
   "metadata": {},
   "outputs": [],
   "source": [
    "# simplest class "
   ]
  },
  {
   "cell_type": "code",
   "execution_count": 15,
   "id": "db39ff18-a488-4e72-adf3-47573903d9b4",
   "metadata": {},
   "outputs": [],
   "source": [
    "class Human: \n",
    "    pass"
   ]
  },
  {
   "cell_type": "code",
   "execution_count": 21,
   "id": "65238aeb-d454-44e5-b75d-1e91c1bb57d0",
   "metadata": {},
   "outputs": [],
   "source": [
    "obj1 = Human()"
   ]
  },
  {
   "cell_type": "code",
   "execution_count": 23,
   "id": "5f1bb5d2-16d1-4548-9ca1-70f2a4015599",
   "metadata": {},
   "outputs": [
    {
     "name": "stdout",
     "output_type": "stream",
     "text": [
      "<__main__.Human object at 0x7f5053bf9c10>\n"
     ]
    }
   ],
   "source": [
    "print(obj1)"
   ]
  },
  {
   "cell_type": "code",
   "execution_count": 20,
   "id": "b0be5540-048a-4e69-a4a8-a9ac5b775162",
   "metadata": {},
   "outputs": [],
   "source": [
    "class Human: \n",
    "    age = 0\n",
    "    name = \"Unknown\""
   ]
  },
  {
   "cell_type": "code",
   "execution_count": 17,
   "id": "7543ce97-a4de-42bc-8e23-0c13740507d0",
   "metadata": {},
   "outputs": [],
   "source": [
    "The_Rock = Human() \n",
    "# whenever you create an object, a constructor(a special type of fn to create obj or class) is called "
   ]
  },
  {
   "cell_type": "code",
   "execution_count": 41,
   "id": "e647995b-69fb-41d5-b384-f94f048bd53f",
   "metadata": {},
   "outputs": [
    {
     "data": {
      "text/plain": [
       "0"
      ]
     },
     "execution_count": 41,
     "metadata": {},
     "output_type": "execute_result"
    }
   ],
   "source": [
    "The_Rock.age"
   ]
  },
  {
   "cell_type": "code",
   "execution_count": 42,
   "id": "1eb1b4a5-f55f-48cb-8e00-caa59efa375e",
   "metadata": {},
   "outputs": [
    {
     "data": {
      "text/plain": [
       "'Unknown'"
      ]
     },
     "execution_count": 42,
     "metadata": {},
     "output_type": "execute_result"
    }
   ],
   "source": [
    "The_Rock.name"
   ]
  },
  {
   "cell_type": "code",
   "execution_count": 43,
   "id": "71bcee1d-39a9-4167-b582-8dd3021c1635",
   "metadata": {},
   "outputs": [],
   "source": [
    "# lets create another object \n",
    "\n",
    "stone_cold = Human()"
   ]
  },
  {
   "cell_type": "code",
   "execution_count": 44,
   "id": "3688674f-c0b0-478f-bdb2-6f98e80aa585",
   "metadata": {},
   "outputs": [
    {
     "data": {
      "text/plain": [
       "(0, 0)"
      ]
     },
     "execution_count": 44,
     "metadata": {},
     "output_type": "execute_result"
    }
   ],
   "source": [
    "The_Rock.age, stone_cold.age"
   ]
  },
  {
   "cell_type": "code",
   "execution_count": 45,
   "id": "1c28a84e-bbc7-431e-adf2-77ca1ee9f596",
   "metadata": {},
   "outputs": [],
   "source": [
    "The_Rock.age = 20 \n",
    "stone_cold.age = 21 "
   ]
  },
  {
   "cell_type": "code",
   "execution_count": 46,
   "id": "ee9c249e-017f-4f42-86f1-419573003ad9",
   "metadata": {},
   "outputs": [
    {
     "data": {
      "text/plain": [
       "(20, 21)"
      ]
     },
     "execution_count": 46,
     "metadata": {},
     "output_type": "execute_result"
    }
   ],
   "source": [
    "The_Rock.age,stone_cold.age"
   ]
  },
  {
   "cell_type": "code",
   "execution_count": 47,
   "id": "26bea4e6-7607-4544-a38f-199621fa7b02",
   "metadata": {},
   "outputs": [],
   "source": [
    "The_Rock.name = \"John_Cena\"\n",
    "stone_cold.name = \"kendrick_lamar\""
   ]
  },
  {
   "cell_type": "code",
   "execution_count": 48,
   "id": "07a63d07-4fbb-42e6-afc4-871f77149b1f",
   "metadata": {},
   "outputs": [
    {
     "data": {
      "text/plain": [
       "('John_Cena', 'kendrick_lamar')"
      ]
     },
     "execution_count": 48,
     "metadata": {},
     "output_type": "execute_result"
    }
   ],
   "source": [
    "The_Rock.name, stone_cold.name "
   ]
  },
  {
   "cell_type": "markdown",
   "id": "936ab009-1ed5-4b7d-942f-c94867620e80",
   "metadata": {},
   "source": [
    "Changing the objects age and name will not affect the class attributes i.e. age and name of the class Human. "
   ]
  },
  {
   "cell_type": "code",
   "execution_count": 49,
   "id": "633d9188-bb39-450f-be8e-5fbcbf7cd9fe",
   "metadata": {},
   "outputs": [
    {
     "data": {
      "text/plain": [
       "(0, 'Unknown')"
      ]
     },
     "execution_count": 49,
     "metadata": {},
     "output_type": "execute_result"
    }
   ],
   "source": [
    "Human.age, Human.name"
   ]
  },
  {
   "cell_type": "code",
   "execution_count": 50,
   "id": "abe84b78-1985-407c-9cfb-2bf7de2dcef0",
   "metadata": {},
   "outputs": [],
   "source": [
    "# now changing "
   ]
  },
  {
   "cell_type": "code",
   "execution_count": 51,
   "id": "54f75efb-55ca-48b7-9fe8-b9c1b98650b0",
   "metadata": {},
   "outputs": [],
   "source": [
    "Human.age = 324 \n",
    "Human.name = 'Alexa'"
   ]
  },
  {
   "cell_type": "code",
   "execution_count": 52,
   "id": "d2bb14f5-5310-4f1b-8e4b-f1d272467f75",
   "metadata": {},
   "outputs": [
    {
     "data": {
      "text/plain": [
       "(324, 'Alexa')"
      ]
     },
     "execution_count": 52,
     "metadata": {},
     "output_type": "execute_result"
    }
   ],
   "source": [
    "Human.age, Human.name "
   ]
  },
  {
   "cell_type": "code",
   "execution_count": 53,
   "id": "c95f893e-dd29-47df-8143-bb343382e682",
   "metadata": {},
   "outputs": [],
   "source": [
    "The_Rock.salary = 50000 # added one attribute on The_Rock "
   ]
  },
  {
   "cell_type": "code",
   "execution_count": 54,
   "id": "8f9d7796-583e-4909-81e5-48eb81dad2f2",
   "metadata": {},
   "outputs": [
    {
     "data": {
      "text/plain": [
       "50000"
      ]
     },
     "execution_count": 54,
     "metadata": {},
     "output_type": "execute_result"
    }
   ],
   "source": [
    "The_Rock.salary "
   ]
  },
  {
   "cell_type": "code",
   "execution_count": 55,
   "id": "1a05639d-30ef-4a2d-9472-99c5d59dceac",
   "metadata": {},
   "outputs": [
    {
     "ename": "AttributeError",
     "evalue": "'Human' object has no attribute 'salary'",
     "output_type": "error",
     "traceback": [
      "\u001b[0;31m---------------------------------------------------------------------------\u001b[0m",
      "\u001b[0;31mAttributeError\u001b[0m                            Traceback (most recent call last)",
      "Cell \u001b[0;32mIn[55], line 1\u001b[0m\n\u001b[0;32m----> 1\u001b[0m \u001b[43mstone_cold\u001b[49m\u001b[38;5;241;43m.\u001b[39;49m\u001b[43msalary\u001b[49m \u001b[38;5;66;03m# no attribute is created on stone_cold of salary\u001b[39;00m\n",
      "\u001b[0;31mAttributeError\u001b[0m: 'Human' object has no attribute 'salary'"
     ]
    }
   ],
   "source": [
    "stone_cold.salary # no attribute is created on stone_cold of salary"
   ]
  },
  {
   "cell_type": "code",
   "execution_count": 56,
   "id": "d24125e1-575d-4d2d-9309-6b48bede2def",
   "metadata": {},
   "outputs": [],
   "source": [
    "Human.salary = 4000 "
   ]
  },
  {
   "cell_type": "code",
   "execution_count": 57,
   "id": "6e5da510-5158-4f2f-b587-51c6dcf53336",
   "metadata": {},
   "outputs": [
    {
     "data": {
      "text/plain": [
       "50000"
      ]
     },
     "execution_count": 57,
     "metadata": {},
     "output_type": "execute_result"
    }
   ],
   "source": [
    "The_Rock.salary"
   ]
  },
  {
   "cell_type": "code",
   "execution_count": 58,
   "id": "14eefa22-4326-4058-9182-0cba1a05734d",
   "metadata": {},
   "outputs": [
    {
     "data": {
      "text/plain": [
       "4000"
      ]
     },
     "execution_count": 58,
     "metadata": {},
     "output_type": "execute_result"
    }
   ],
   "source": [
    "stone_cold.salary"
   ]
  },
  {
   "cell_type": "markdown",
   "id": "5130f6d0-8e6c-4195-9518-607c5b2841b0",
   "metadata": {},
   "source": [
    "At first, salary of the object's attribute is checked if there is any if not then only it will check the Human salary attribute. "
   ]
  },
  {
   "cell_type": "markdown",
   "id": "daca9ad9-1c51-4024-b032-e812acd99808",
   "metadata": {},
   "source": [
    "**Problem :** Should I be assign name, age and salary 1000 times or do I have any solution so that i can assign the value inside object? I want to assign these values, when object is created. \n",
    "**Solution :** "
   ]
  },
  {
   "cell_type": "code",
   "execution_count": 59,
   "id": "b08f92bc-1fb3-4b1a-989f-cbde8a19d3f2",
   "metadata": {},
   "outputs": [],
   "source": [
    "class Human:\n",
    "    def fun():\n",
    "        print(\"Hello world\")"
   ]
  },
  {
   "cell_type": "code",
   "execution_count": 60,
   "id": "8e70eb6c-ac12-477d-8821-78fe536e004e",
   "metadata": {},
   "outputs": [],
   "source": [
    "function = Human()"
   ]
  },
  {
   "cell_type": "code",
   "execution_count": 61,
   "id": "2fc244b1-a769-4e08-a2ce-2edd423e8c04",
   "metadata": {},
   "outputs": [
    {
     "ename": "TypeError",
     "evalue": "Human.fun() takes 0 positional arguments but 1 was given",
     "output_type": "error",
     "traceback": [
      "\u001b[0;31m---------------------------------------------------------------------------\u001b[0m",
      "\u001b[0;31mTypeError\u001b[0m                                 Traceback (most recent call last)",
      "Cell \u001b[0;32mIn[61], line 1\u001b[0m\n\u001b[0;32m----> 1\u001b[0m \u001b[43mfunction\u001b[49m\u001b[38;5;241;43m.\u001b[39;49m\u001b[43mfun\u001b[49m\u001b[43m(\u001b[49m\u001b[43m)\u001b[49m \u001b[38;5;66;03m# by default it passes one argument \u001b[39;00m\n",
      "\u001b[0;31mTypeError\u001b[0m: Human.fun() takes 0 positional arguments but 1 was given"
     ]
    }
   ],
   "source": [
    "function.fun() # by default it passes one argument "
   ]
  },
  {
   "cell_type": "code",
   "execution_count": 62,
   "id": "3a28ea97-2b23-48ae-8129-9404be6c0d3a",
   "metadata": {},
   "outputs": [],
   "source": [
    "class Human: \n",
    "    def fun(something): # to avoid above argument error \n",
    "        print(\"Hello world\")"
   ]
  },
  {
   "cell_type": "code",
   "execution_count": 63,
   "id": "342fc0fe-f9b1-4c26-81e2-0ffc6cecd840",
   "metadata": {},
   "outputs": [],
   "source": [
    "function = Human()"
   ]
  },
  {
   "cell_type": "code",
   "execution_count": 64,
   "id": "bb067e12-1e34-4545-a311-91a8d3d526d2",
   "metadata": {},
   "outputs": [
    {
     "name": "stdout",
     "output_type": "stream",
     "text": [
      "Hello world\n"
     ]
    }
   ],
   "source": [
    "function.fun()"
   ]
  },
  {
   "cell_type": "code",
   "execution_count": 199,
   "id": "0364d444-97f9-4c2f-be37-4a41f7658004",
   "metadata": {},
   "outputs": [
    {
     "name": "stdout",
     "output_type": "stream",
     "text": [
      "<__main__.Human object at 0x7f2b39f7ce10>\n",
      "Hello world\n"
     ]
    }
   ],
   "source": [
    "# lets check what actually is object \n",
    "class Human:\n",
    "    def fun(something):\n",
    "        print(something)\n",
    "        print(\"Hello world\")\n",
    "\n",
    "function = Human()\n",
    "function.fun()"
   ]
  },
  {
   "cell_type": "markdown",
   "id": "f73c563a-d6c0-4f5c-b88a-cc8cd4858309",
   "metadata": {},
   "source": [
    "Something is an object. \n",
    "**Fun Fact** fuction is being passed ie. function.fun(function) "
   ]
  },
  {
   "cell_type": "code",
   "execution_count": 66,
   "id": "c5af0ed1-85b3-4cb0-89a3-cadc1e0a6cb3",
   "metadata": {},
   "outputs": [
    {
     "name": "stdout",
     "output_type": "stream",
     "text": [
      "Hello world\n"
     ]
    }
   ],
   "source": [
    "class Human:\n",
    "    def fun(self): # there is by default one keyword - self \n",
    "        print(\"Hello world\")\n",
    "\n",
    "function = Human()\n",
    "function.fun()"
   ]
  },
  {
   "cell_type": "code",
   "execution_count": 67,
   "id": "e874a3ac-2c2b-4e49-a486-19c4b7376d9e",
   "metadata": {},
   "outputs": [
    {
     "name": "stdout",
     "output_type": "stream",
     "text": [
      "<__main__.Human object at 0x7f2b3aa3dc10>\n",
      "45\n"
     ]
    }
   ],
   "source": [
    "class Human:\n",
    "    age = 10\n",
    "    def fun(self):\n",
    "        print(self)\n",
    "        print(self.age)\n",
    "\n",
    "google = Human()\n",
    "google.age = 45 \n",
    "google.fun()\n",
    "        "
   ]
  },
  {
   "cell_type": "markdown",
   "id": "15a3afb6-047b-4a2e-a74f-89e8bc88885a",
   "metadata": {},
   "source": [
    "**Explanation:** google(object) is being passed whereever there is self in the function. "
   ]
  },
  {
   "cell_type": "code",
   "execution_count": 68,
   "id": "5a7fcde6-a3b0-40c2-ae74-589f5c32c85b",
   "metadata": {},
   "outputs": [
    {
     "name": "stdout",
     "output_type": "stream",
     "text": [
      "<__main__.Human object at 0x7f2b3aa3dc10>\n",
      "45\n"
     ]
    }
   ],
   "source": [
    "# above code is same as this # self is basically representing the object \n",
    "Human.fun(google)"
   ]
  },
  {
   "cell_type": "code",
   "execution_count": 69,
   "id": "4105f58e-b76a-4bf7-882e-e2a2e9a087b9",
   "metadata": {},
   "outputs": [
    {
     "ename": "NameError",
     "evalue": "name 'age' is not defined",
     "output_type": "error",
     "traceback": [
      "\u001b[0;31m---------------------------------------------------------------------------\u001b[0m",
      "\u001b[0;31mNameError\u001b[0m                                 Traceback (most recent call last)",
      "Cell \u001b[0;32mIn[69], line 9\u001b[0m\n\u001b[1;32m      7\u001b[0m \u001b[38;5;28mobject\u001b[39m \u001b[38;5;241m=\u001b[39m Human()\n\u001b[1;32m      8\u001b[0m \u001b[38;5;28mobject\u001b[39m\u001b[38;5;241m.\u001b[39mage \u001b[38;5;241m=\u001b[39m \u001b[38;5;241m45\u001b[39m \n\u001b[0;32m----> 9\u001b[0m \u001b[38;5;28;43mobject\u001b[39;49m\u001b[38;5;241;43m.\u001b[39;49m\u001b[43mfun\u001b[49m\u001b[43m(\u001b[49m\u001b[43m)\u001b[49m\n",
      "Cell \u001b[0;32mIn[69], line 5\u001b[0m, in \u001b[0;36mHuman.fun\u001b[0;34m(self)\u001b[0m\n\u001b[1;32m      4\u001b[0m \u001b[38;5;28;01mdef\u001b[39;00m \u001b[38;5;21mfun\u001b[39m(\u001b[38;5;28mself\u001b[39m):\n\u001b[0;32m----> 5\u001b[0m     \u001b[38;5;28mprint\u001b[39m(\u001b[43mage\u001b[49m)\n",
      "\u001b[0;31mNameError\u001b[0m: name 'age' is not defined"
     ]
    }
   ],
   "source": [
    "# suppose \n",
    "class Human: \n",
    "    age = 10\n",
    "    def fun(self):\n",
    "        print(age)\n",
    "\n",
    "object = Human()\n",
    "object.age = 45 \n",
    "object.fun()"
   ]
  },
  {
   "cell_type": "markdown",
   "id": "2e6da666-4f2e-4243-8b33-8e5c725bee26",
   "metadata": {},
   "source": [
    "#### This is the condition of scoping. \n",
    "You can do two things: either print the age of the human class or print the age of the object. "
   ]
  },
  {
   "cell_type": "code",
   "execution_count": 70,
   "id": "45ae5709-2497-480c-bf5d-e8548bf5ec70",
   "metadata": {},
   "outputs": [
    {
     "name": "stdout",
     "output_type": "stream",
     "text": [
      "10\n"
     ]
    }
   ],
   "source": [
    "#### 1. Printing the age of the human class \n",
    "class Human: \n",
    "    age = 10\n",
    "    def fun(self):\n",
    "        print(Human.age)\n",
    "\n",
    "a = Human()\n",
    "a.age = 56787 \n",
    "a.fun()"
   ]
  },
  {
   "cell_type": "code",
   "execution_count": 71,
   "id": "f05c424f-b65e-47c6-bd5a-87f4256d9c70",
   "metadata": {},
   "outputs": [
    {
     "name": "stdout",
     "output_type": "stream",
     "text": [
      "46767\n"
     ]
    }
   ],
   "source": [
    "#### 2. Printing the age of the object \n",
    "class Human:\n",
    "    age = 10\n",
    "    def fun(self):\n",
    "        print(self.age) # same as print(a.age)\n",
    "\n",
    "a = Human()\n",
    "a.age = 46767\n",
    "a.fun()"
   ]
  },
  {
   "cell_type": "code",
   "execution_count": 72,
   "id": "322ff4a7-54bf-4302-a20e-2e6ce263b093",
   "metadata": {},
   "outputs": [
    {
     "name": "stdout",
     "output_type": "stream",
     "text": [
      "46767\n"
     ]
    }
   ],
   "source": [
    "# now again \n",
    "class Human:\n",
    "    age = 10\n",
    "    def fun(self):\n",
    "        print(a.age) # this is not letting object b to print the age of the object b thus self is needed. \n",
    "        \n",
    "b = Human()\n",
    "b.age = 578 \n",
    "b.fun()"
   ]
  },
  {
   "cell_type": "code",
   "execution_count": 73,
   "id": "eaa79c54-7eda-4fe1-8bf2-6c57cea06814",
   "metadata": {},
   "outputs": [
    {
     "name": "stdout",
     "output_type": "stream",
     "text": [
      "670\n"
     ]
    }
   ],
   "source": [
    "# soln \n",
    "class Human: \n",
    "    age = 10\n",
    "    def fun(self):\n",
    "        print(self.age)\n",
    "\n",
    "b = Human()\n",
    "b.age = 670 \n",
    "b.fun()"
   ]
  },
  {
   "cell_type": "code",
   "execution_count": 74,
   "id": "fe3f22e2-cd08-41ba-93ce-72c26f8fcf03",
   "metadata": {},
   "outputs": [],
   "source": [
    "class Human:\n",
    "    \"\"\" \n",
    "    No need of default vlaue, \n",
    "    want to assign the value \n",
    "    when object is being created.\n",
    "    This is soln of above problem.\n",
    "    \"\"\"\n",
    "    def __init__(): # by default one constructor is created in python when no constructor is created (__init__). \n",
    "        \"\"\"\n",
    "        This is wrong there should one arguement.\n",
    "        \"\"\"\n",
    "        pass"
   ]
  },
  {
   "cell_type": "code",
   "execution_count": 194,
   "id": "b1e69b71-8b95-45b2-9d30-c18138f55c69",
   "metadata": {},
   "outputs": [],
   "source": [
    "# not providing any default method inside class \n",
    "class Human: \n",
    "    # overriding # there is no concept of overloading in python \n",
    "    \"\"\"\n",
    "    The previous init method (default one ) has been overrided here. \n",
    "    \"\"\"\n",
    "    def __init__(self,name, age): ## these keyword using dunder are known as magic method ( __init__ -> constructor method ) \n",
    "        self.age = age # assigning the values that we will pass on object\n",
    "        self.name = name "
   ]
  },
  {
   "cell_type": "code",
   "execution_count": 195,
   "id": "c7bfb063-a79d-4a18-8992-511dfdd74747",
   "metadata": {},
   "outputs": [],
   "source": [
    "a = Human(\"Alexa\", 56)"
   ]
  },
  {
   "cell_type": "code",
   "execution_count": 196,
   "id": "646d7631-70c2-45bc-b74a-5d78c89d2e63",
   "metadata": {},
   "outputs": [
    {
     "data": {
      "text/plain": [
       "('Alexa', 56)"
      ]
     },
     "execution_count": 196,
     "metadata": {},
     "output_type": "execute_result"
    }
   ],
   "source": [
    "a.name, a.age "
   ]
  },
  {
   "cell_type": "code",
   "execution_count": 197,
   "id": "91efcf25-898e-4abd-9c2b-328aad5b65f2",
   "metadata": {},
   "outputs": [],
   "source": [
    "b = Human(\"Larry\", 45)"
   ]
  },
  {
   "cell_type": "code",
   "execution_count": 86,
   "id": "ecd31d90-fe11-4f8e-afa2-75d1af0272e6",
   "metadata": {},
   "outputs": [
    {
     "data": {
      "text/plain": [
       "('Larry', 45)"
      ]
     },
     "execution_count": 86,
     "metadata": {},
     "output_type": "execute_result"
    }
   ],
   "source": [
    "b.name, b.age "
   ]
  },
  {
   "cell_type": "code",
   "execution_count": 87,
   "id": "8656b22a-47d0-40eb-9a90-fc2dfa590411",
   "metadata": {},
   "outputs": [
    {
     "ename": "AttributeError",
     "evalue": "type object 'Human' has no attribute 'name'",
     "output_type": "error",
     "traceback": [
      "\u001b[0;31m---------------------------------------------------------------------------\u001b[0m",
      "\u001b[0;31mAttributeError\u001b[0m                            Traceback (most recent call last)",
      "Cell \u001b[0;32mIn[87], line 1\u001b[0m\n\u001b[0;32m----> 1\u001b[0m \u001b[43mHuman\u001b[49m\u001b[38;5;241;43m.\u001b[39;49m\u001b[43mname\u001b[49m \u001b[38;5;66;03m# human does not have any thing here \u001b[39;00m\n",
      "\u001b[0;31mAttributeError\u001b[0m: type object 'Human' has no attribute 'name'"
     ]
    }
   ],
   "source": [
    "Human.name # human does not have any thing here "
   ]
  },
  {
   "cell_type": "code",
   "execution_count": 89,
   "id": "30fcc613-a4c3-499a-8b76-c70429d19120",
   "metadata": {},
   "outputs": [
    {
     "data": {
      "text/plain": [
       "45"
      ]
     },
     "execution_count": 89,
     "metadata": {},
     "output_type": "execute_result"
    }
   ],
   "source": [
    "# actually you can also assign the value something like this \n",
    "a.age = 45 \n",
    "a.age"
   ]
  },
  {
   "cell_type": "markdown",
   "id": "62a15b3a-b285-4364-bc6f-d8ca8dd80677",
   "metadata": {},
   "source": [
    "This is not an good practise to set the value. We can also prevent this to happen. "
   ]
  },
  {
   "cell_type": "code",
   "execution_count": 97,
   "id": "1b129551-d0f7-49e2-85e8-1451971fb1e6",
   "metadata": {},
   "outputs": [],
   "source": [
    "# overloading - In other programming language you might find the concept of overloading. But in python \n",
    "def fun():\n",
    "    print(\"Hey\") # this one has no refrence after below fun(a) is created. \n",
    "\n",
    "def fun(a):\n",
    "    print(a)"
   ]
  },
  {
   "cell_type": "code",
   "execution_count": 98,
   "id": "060f6815-b845-4c1e-85c5-4e0d7b73de77",
   "metadata": {},
   "outputs": [
    {
     "ename": "TypeError",
     "evalue": "fun() missing 1 required positional argument: 'a'",
     "output_type": "error",
     "traceback": [
      "\u001b[0;31m---------------------------------------------------------------------------\u001b[0m",
      "\u001b[0;31mTypeError\u001b[0m                                 Traceback (most recent call last)",
      "Cell \u001b[0;32mIn[98], line 1\u001b[0m\n\u001b[0;32m----> 1\u001b[0m \u001b[43mfun\u001b[49m\u001b[43m(\u001b[49m\u001b[43m)\u001b[49m\n",
      "\u001b[0;31mTypeError\u001b[0m: fun() missing 1 required positional argument: 'a'"
     ]
    }
   ],
   "source": [
    "fun()"
   ]
  },
  {
   "cell_type": "code",
   "execution_count": 99,
   "id": "998c42e3-f651-48c7-a862-149f0046cfa5",
   "metadata": {},
   "outputs": [
    {
     "name": "stdout",
     "output_type": "stream",
     "text": [
      "world\n"
     ]
    }
   ],
   "source": [
    "fun(\"world\")"
   ]
  },
  {
   "cell_type": "markdown",
   "id": "28b3db63-23a2-4435-ab0b-f9376374b047",
   "metadata": {},
   "source": [
    "What is happening ? \n",
    "At first the fun is pointing to an object. Later again if you trying to make an function fun with argument a then the refrence of the first one gets over and the refrence in second one can only be observed."
   ]
  },
  {
   "cell_type": "markdown",
   "id": "d6897bb3-7c2e-47f4-8637-f50b581a079a",
   "metadata": {},
   "source": [
    "#### class variable vs instance variable \n",
    "The variable inside the class is known as class variable or static variable and the variable inside the object is known as instance variable."
   ]
  },
  {
   "cell_type": "code",
   "execution_count": 142,
   "id": "87023bea-94cc-4aee-8135-5a901082e6ad",
   "metadata": {},
   "outputs": [],
   "source": [
    "class Human:\n",
    "    # static variable : common for all objects of that class \n",
    "    population = 0 \n",
    "    def __init__(self,name, age):\n",
    "        self.age = age\n",
    "        self.name = name\n",
    "        \n",
    "        # when new baby is birth, increase the population\n",
    "        Human.population += 1 "
   ]
  },
  {
   "cell_type": "code",
   "execution_count": 143,
   "id": "9a54c04e-5feb-4b90-b678-174bd4966dd6",
   "metadata": {},
   "outputs": [
    {
     "data": {
      "text/plain": [
       "0"
      ]
     },
     "execution_count": 143,
     "metadata": {},
     "output_type": "execute_result"
    }
   ],
   "source": [
    "Human.population "
   ]
  },
  {
   "cell_type": "code",
   "execution_count": 144,
   "id": "373be898-4852-4f89-90f8-00a5af8e7a38",
   "metadata": {},
   "outputs": [],
   "source": [
    "# new baby \n",
    "ashish = Human(\"Ashish Aryal\", 1) "
   ]
  },
  {
   "cell_type": "code",
   "execution_count": 145,
   "id": "fdf40fc0-b547-4222-83cb-cd0f46d1832b",
   "metadata": {},
   "outputs": [
    {
     "data": {
      "text/plain": [
       "1"
      ]
     },
     "execution_count": 145,
     "metadata": {},
     "output_type": "execute_result"
    }
   ],
   "source": [
    "ashish.population"
   ]
  },
  {
   "cell_type": "code",
   "execution_count": 146,
   "id": "66b0d733-21c8-4260-9f70-ba7c1da2a473",
   "metadata": {},
   "outputs": [
    {
     "data": {
      "text/plain": [
       "1"
      ]
     },
     "execution_count": 146,
     "metadata": {},
     "output_type": "execute_result"
    }
   ],
   "source": [
    "Human.population"
   ]
  },
  {
   "cell_type": "code",
   "execution_count": 147,
   "id": "65ad1aca-e4ff-4016-b21f-271f4a3a29e0",
   "metadata": {},
   "outputs": [],
   "source": [
    "# again new baby  \n",
    "piyush = Human(\"Piyush osti\", 1)"
   ]
  },
  {
   "cell_type": "code",
   "execution_count": 148,
   "id": "a3cab415-bee2-4d21-af7e-425f0baf7d29",
   "metadata": {},
   "outputs": [
    {
     "data": {
      "text/plain": [
       "2"
      ]
     },
     "execution_count": 148,
     "metadata": {},
     "output_type": "execute_result"
    }
   ],
   "source": [
    "piyush.population"
   ]
  },
  {
   "cell_type": "code",
   "execution_count": 149,
   "id": "9d512a40-87bf-4084-b61f-5c729ce9bba5",
   "metadata": {},
   "outputs": [],
   "source": [
    "piyush.population += 1"
   ]
  },
  {
   "cell_type": "code",
   "execution_count": 150,
   "id": "8a18ffe3-0717-46c8-b003-e90c361f1339",
   "metadata": {},
   "outputs": [
    {
     "data": {
      "text/plain": [
       "(3, 2, 2)"
      ]
     },
     "execution_count": 150,
     "metadata": {},
     "output_type": "execute_result"
    }
   ],
   "source": [
    "piyush.population, ashish.population, Human.population"
   ]
  },
  {
   "cell_type": "code",
   "execution_count": 151,
   "id": "502f9029-ecde-4e5b-b91e-6b006307885b",
   "metadata": {},
   "outputs": [],
   "source": [
    "class Human:\n",
    "    # static variable : common for all objects of that class \n",
    "    population = 0 \n",
    "    def __init__(self,name, age):\n",
    "        self.age = age\n",
    "        self.name = name\n",
    "        \n",
    "        # when new baby is birth, increase the population\n",
    "        # if we had used self \n",
    "        self.population += 1 "
   ]
  },
  {
   "cell_type": "code",
   "execution_count": 152,
   "id": "2b14dc22-903e-4dc1-a338-c074302a3819",
   "metadata": {},
   "outputs": [],
   "source": [
    "umesh = Human(\"Umesh Joshi\",1)"
   ]
  },
  {
   "cell_type": "code",
   "execution_count": 153,
   "id": "73bd477a-67ce-43b7-a232-368211093169",
   "metadata": {},
   "outputs": [
    {
     "data": {
      "text/plain": [
       "1"
      ]
     },
     "execution_count": 153,
     "metadata": {},
     "output_type": "execute_result"
    }
   ],
   "source": [
    "umesh.population"
   ]
  },
  {
   "cell_type": "code",
   "execution_count": 154,
   "id": "dec214d8-94bb-41e1-a3ec-a8a2de6264e5",
   "metadata": {},
   "outputs": [
    {
     "data": {
      "text/plain": [
       "0"
      ]
     },
     "execution_count": 154,
     "metadata": {},
     "output_type": "execute_result"
    }
   ],
   "source": [
    "Human.population # As self is used."
   ]
  },
  {
   "cell_type": "code",
   "execution_count": 155,
   "id": "89ca4442-9daf-48fd-be85-8a088164198c",
   "metadata": {},
   "outputs": [],
   "source": [
    "zayn = Human(\"Zayn Malik\", 1)"
   ]
  },
  {
   "cell_type": "code",
   "execution_count": 156,
   "id": "6969d562-676d-4a6b-9753-9ed07c3f7d23",
   "metadata": {},
   "outputs": [
    {
     "data": {
      "text/plain": [
       "1"
      ]
     },
     "execution_count": 156,
     "metadata": {},
     "output_type": "execute_result"
    }
   ],
   "source": [
    "zayn.population"
   ]
  },
  {
   "cell_type": "code",
   "execution_count": 157,
   "id": "56cd78e9-50bb-4ec7-a0e9-316ad0922157",
   "metadata": {},
   "outputs": [
    {
     "data": {
      "text/plain": [
       "0"
      ]
     },
     "execution_count": 157,
     "metadata": {},
     "output_type": "execute_result"
    }
   ],
   "source": [
    "Human.population"
   ]
  },
  {
   "cell_type": "code",
   "execution_count": 191,
   "id": "a89995a7-bed4-4f08-a671-ba9abb149f74",
   "metadata": {},
   "outputs": [],
   "source": [
    "class Human:\n",
    "    # static variable : common for all objects of that class \n",
    "    population = 0 \n",
    "    def __init__(self,name, age):\n",
    "        self.age = age\n",
    "        self.name = name\n",
    "        \n",
    "        Human.population += 1\n",
    "\n",
    "    @staticmethod # this is called the decorator \n",
    "    # used to modify behaviour of a function \n",
    "    # this is basically letting us call the object without passing self \n",
    "    def fun():\n",
    "        print(Human.population)"
   ]
  },
  {
   "cell_type": "code",
   "execution_count": 192,
   "id": "f2181b0b-9b23-416b-8220-370fc9202d65",
   "metadata": {},
   "outputs": [],
   "source": [
    "a = Human(\"a\",1)\n",
    "b = Human(\"b\",2)"
   ]
  },
  {
   "cell_type": "code",
   "execution_count": 193,
   "id": "f4a1a6d2-010e-4b0c-a72e-1aab4f75c113",
   "metadata": {},
   "outputs": [
    {
     "name": "stdout",
     "output_type": "stream",
     "text": [
      "2\n"
     ]
    }
   ],
   "source": [
    "a.fun()"
   ]
  },
  {
   "cell_type": "code",
   "execution_count": 5,
   "id": "ac76f748-37a4-441a-ba85-026f8b5002e3",
   "metadata": {},
   "outputs": [],
   "source": [
    "class Human:\n",
    "    population = 0 \n",
    "    def __init__(self,name, age):\n",
    "        self.age = age\n",
    "        self.name = name\n",
    "        \n",
    "        Human.population += 1\n",
    "\n",
    "    @staticmethod \n",
    "    def fun():\n",
    "        print(Human.population)\n",
    "        \n",
    "    def getName(self):\n",
    "        print(self.name)\n",
    "\n",
    "    @classmethod\n",
    "    def destroy(cls): # human will be passed in place of cls not the object \n",
    "        cls.population = 0"
   ]
  },
  {
   "cell_type": "code",
   "execution_count": 6,
   "id": "49394c39-dd88-41a1-998f-12568ca23ec9",
   "metadata": {},
   "outputs": [],
   "source": [
    "a = Human('ab', 112 ) \n",
    "b = Human('bh', 356) "
   ]
  },
  {
   "cell_type": "code",
   "execution_count": 7,
   "id": "d7282569-4cef-4107-8e47-3ba96c4861de",
   "metadata": {},
   "outputs": [
    {
     "name": "stdout",
     "output_type": "stream",
     "text": [
      "2\n"
     ]
    }
   ],
   "source": [
    "a.fun()"
   ]
  },
  {
   "cell_type": "code",
   "execution_count": 8,
   "id": "db54a353-e9e1-4956-8f7c-fcc50ee4e92c",
   "metadata": {},
   "outputs": [
    {
     "name": "stdout",
     "output_type": "stream",
     "text": [
      "ab\n"
     ]
    }
   ],
   "source": [
    "a.getName()"
   ]
  },
  {
   "cell_type": "code",
   "execution_count": 10,
   "id": "2cfa2746-ce53-44bd-ad6e-690a82443dee",
   "metadata": {},
   "outputs": [],
   "source": [
    "b.destroy()"
   ]
  },
  {
   "cell_type": "code",
   "execution_count": 11,
   "id": "4ce45029-a84a-4085-aa9a-248828d1f100",
   "metadata": {},
   "outputs": [
    {
     "data": {
      "text/plain": [
       "0"
      ]
     },
     "execution_count": 11,
     "metadata": {},
     "output_type": "execute_result"
    }
   ],
   "source": [
    "a.population"
   ]
  },
  {
   "cell_type": "code",
   "execution_count": 12,
   "id": "687e689d-d02c-4894-ae12-b6f2d3c6d4cb",
   "metadata": {},
   "outputs": [
    {
     "data": {
      "text/plain": [
       "0"
      ]
     },
     "execution_count": 12,
     "metadata": {},
     "output_type": "execute_result"
    }
   ],
   "source": [
    "b.population"
   ]
  },
  {
   "cell_type": "code",
   "execution_count": 13,
   "id": "ca54e37f-d06d-4ac5-9b78-706f6a00bfa0",
   "metadata": {},
   "outputs": [
    {
     "data": {
      "text/plain": [
       "0"
      ]
     },
     "execution_count": 13,
     "metadata": {},
     "output_type": "execute_result"
    }
   ],
   "source": [
    "Human.population"
   ]
  },
  {
   "cell_type": "markdown",
   "id": "8a5d218c-0337-43d3-b576-050dbf86d66a",
   "metadata": {},
   "source": [
    "This shows that class method is not affected by object or class. \n",
    "Difference between static method and class method : \n",
    "In class method the value of class is passed while in the static method nothing is passed. "
   ]
  },
  {
   "cell_type": "code",
   "execution_count": 25,
   "id": "34a76410-ba8d-4dcc-aaac-8fd34153bb09",
   "metadata": {},
   "outputs": [],
   "source": [
    "# is there would not have used the class method then we would have to give the value 0 for every time while calling the object. \n",
    "class Human:\n",
    "    def __init__(self,name, age):\n",
    "        self.age = age\n",
    "        self.name = name\n",
    "        self.population = population\n",
    "        \n",
    "        Human.population += 1\n",
    "\n",
    "    @staticmethod \n",
    "    def fun():\n",
    "        print(Human.population)\n",
    "        \n",
    "    def getName(self):\n",
    "        print(self.name)"
   ]
  },
  {
   "cell_type": "code",
   "execution_count": 26,
   "id": "781a945b-d62e-4c6b-b93a-083307198efc",
   "metadata": {},
   "outputs": [],
   "source": [
    "# more example of the class object to create the new object \n",
    "class Human:\n",
    "    population = 0 \n",
    "    def __init__(self,name, age):\n",
    "        self.age = age\n",
    "        self.name = name\n",
    "        \n",
    "        Human.population += 1\n",
    "\n",
    "    @staticmethod \n",
    "    def fun():\n",
    "        print(Human.population)\n",
    "        \n",
    "    def getName(self):\n",
    "        print(self.name)\n",
    "\n",
    "    @classmethod\n",
    "    def destroy(cls): \n",
    "        cls.population = 0\n",
    "\n",
    "    @classmethod\n",
    "    def fromString(cls, string, age): \n",
    "        return cls(string, age) "
   ]
  },
  {
   "cell_type": "code",
   "execution_count": 27,
   "id": "948bc684-83a4-4dd7-8cc4-d3669fec4d4b",
   "metadata": {},
   "outputs": [],
   "source": [
    "a = Human('abc', 3)\n",
    "b = Human('dhg', 5)"
   ]
  },
  {
   "cell_type": "code",
   "execution_count": 28,
   "id": "51a5ac01-33d5-4c32-85b8-6a42100e92a6",
   "metadata": {},
   "outputs": [],
   "source": [
    "Human.destroy()"
   ]
  },
  {
   "cell_type": "code",
   "execution_count": 29,
   "id": "dbdacec9-caee-4c56-a892-7d3b9648e9f1",
   "metadata": {},
   "outputs": [],
   "source": [
    "c = Human.fromString(\"c\", 34 ) "
   ]
  },
  {
   "cell_type": "markdown",
   "id": "4e9dd54a-bb27-4964-adbc-49c03bf8ffe3",
   "metadata": {},
   "source": [
    "Here cls = Human then return Human(string,age) this is basically an constructor and will call the __init__ method. "
   ]
  },
  {
   "cell_type": "code",
   "execution_count": 36,
   "id": "54110266-cf9c-465c-b16b-1b09c114581d",
   "metadata": {},
   "outputs": [
    {
     "data": {
      "text/plain": [
       "1"
      ]
     },
     "execution_count": 36,
     "metadata": {},
     "output_type": "execute_result"
    }
   ],
   "source": [
    "c.population"
   ]
  },
  {
   "cell_type": "code",
   "execution_count": 37,
   "id": "f415789a-775d-489e-b609-b9ffba7484fe",
   "metadata": {},
   "outputs": [
    {
     "data": {
      "text/plain": [
       "'c'"
      ]
     },
     "execution_count": 37,
     "metadata": {},
     "output_type": "execute_result"
    }
   ],
   "source": [
    "c.name"
   ]
  },
  {
   "cell_type": "code",
   "execution_count": 38,
   "id": "47f7e39d-483b-4f17-aa76-1cf2d98a502b",
   "metadata": {},
   "outputs": [
    {
     "data": {
      "text/plain": [
       "34"
      ]
     },
     "execution_count": 38,
     "metadata": {},
     "output_type": "execute_result"
    }
   ],
   "source": [
    "c.age"
   ]
  },
  {
   "cell_type": "markdown",
   "id": "499cbec5-4c59-47bc-a7d3-95229756af9e",
   "metadata": {},
   "source": [
    "Use of the class method is to change the value of the static variable or the class variable and to create an object. "
   ]
  },
  {
   "cell_type": "markdown",
   "id": "bc310fe1-aff0-4b72-964c-c14a4d445bea",
   "metadata": {},
   "source": [
    "#### Inheritance "
   ]
  },
  {
   "cell_type": "code",
   "execution_count": 41,
   "id": "da5987f7-465e-406b-9591-fa7926ddde57",
   "metadata": {},
   "outputs": [],
   "source": [
    "class Parent: \n",
    "    f = 80\n",
    "    def __init__(self, value): \n",
    "        self.value = value "
   ]
  },
  {
   "cell_type": "code",
   "execution_count": 43,
   "id": "4a9f4e91-61b0-4427-96f2-feb88f6951f5",
   "metadata": {},
   "outputs": [],
   "source": [
    "class child(Parent): \n",
    "    pass \n",
    "    "
   ]
  },
  {
   "cell_type": "code",
   "execution_count": 44,
   "id": "66817324-5326-4cf0-9e37-0404e424189d",
   "metadata": {},
   "outputs": [],
   "source": [
    "parent = Parent(56) # creating an parent object "
   ]
  },
  {
   "cell_type": "code",
   "execution_count": 45,
   "id": "3c018dab-e8ca-4000-ba34-310dbac97311",
   "metadata": {},
   "outputs": [
    {
     "data": {
      "text/plain": [
       "(56, 80)"
      ]
     },
     "execution_count": 45,
     "metadata": {},
     "output_type": "execute_result"
    }
   ],
   "source": [
    "parent.value , parent.f "
   ]
  },
  {
   "cell_type": "code",
   "execution_count": 47,
   "id": "79d8d44a-ef3d-441e-b860-680708f2b4f7",
   "metadata": {},
   "outputs": [],
   "source": [
    "# now creating an child class which uses the parent properties \n",
    "class Parent: \n",
    "    f = 80\n",
    "    def __init__(self, value): \n",
    "        self.value = value \n",
    "\n",
    "class Child(Parent): \n",
    "    def __init__(self, value):\n",
    "        super().__init__(value) # it is imp to call the parent constructor if you are creating child class \n",
    "        # or \n",
    "        # Parent.__init__(value)\n",
    "        "
   ]
  },
  {
   "cell_type": "code",
   "execution_count": 48,
   "id": "88afc713-fed4-4008-8c53-05c98cfb628c",
   "metadata": {},
   "outputs": [],
   "source": [
    "obj = Child(45)"
   ]
  },
  {
   "cell_type": "code",
   "execution_count": 49,
   "id": "90cfcd1c-056a-4ece-aed2-0d11ae2b4ff4",
   "metadata": {},
   "outputs": [
    {
     "data": {
      "text/plain": [
       "(80, 45)"
      ]
     },
     "execution_count": 49,
     "metadata": {},
     "output_type": "execute_result"
    }
   ],
   "source": [
    "obj.f , obj.value "
   ]
  },
  {
   "cell_type": "code",
   "execution_count": 50,
   "id": "771cd4ab-0b97-4c55-b1a4-afc47b5cf1c0",
   "metadata": {},
   "outputs": [],
   "source": [
    "obj2 = Parent(89)"
   ]
  },
  {
   "cell_type": "code",
   "execution_count": 51,
   "id": "3e8838c9-eeca-4e0f-b4e2-f31dc5ed2a1a",
   "metadata": {},
   "outputs": [
    {
     "data": {
      "text/plain": [
       "89"
      ]
     },
     "execution_count": 51,
     "metadata": {},
     "output_type": "execute_result"
    }
   ],
   "source": [
    "obj2.value "
   ]
  },
  {
   "cell_type": "code",
   "execution_count": 52,
   "id": "39a90a10-35b8-4070-a5bc-64ef3e877b39",
   "metadata": {},
   "outputs": [
    {
     "ename": "AttributeError",
     "evalue": "type object 'Child' has no attribute 'value'",
     "output_type": "error",
     "traceback": [
      "\u001b[0;31m---------------------------------------------------------------------------\u001b[0m",
      "\u001b[0;31mAttributeError\u001b[0m                            Traceback (most recent call last)",
      "Cell \u001b[0;32mIn[52], line 1\u001b[0m\n\u001b[0;32m----> 1\u001b[0m \u001b[43mChild\u001b[49m\u001b[38;5;241;43m.\u001b[39;49m\u001b[43mvalue\u001b[49m \n",
      "\u001b[0;31mAttributeError\u001b[0m: type object 'Child' has no attribute 'value'"
     ]
    }
   ],
   "source": [
    "Child.value "
   ]
  },
  {
   "cell_type": "markdown",
   "id": "b5b5d440-adac-4792-997d-7028584541be",
   "metadata": {},
   "source": [
    "Now you have created an object of parent class and has not call anything of the child class. The parent class will contain the value of f and value. "
   ]
  },
  {
   "cell_type": "code",
   "execution_count": null,
   "id": "1f9fd901-4d4e-47b6-a625-5f9d5035d197",
   "metadata": {},
   "outputs": [],
   "source": []
  }
 ],
 "metadata": {
  "kernelspec": {
   "display_name": "Python 3 (ipykernel)",
   "language": "python",
   "name": "python3"
  },
  "language_info": {
   "codemirror_mode": {
    "name": "ipython",
    "version": 3
   },
   "file_extension": ".py",
   "mimetype": "text/x-python",
   "name": "python",
   "nbconvert_exporter": "python",
   "pygments_lexer": "ipython3",
   "version": "3.11.4"
  }
 },
 "nbformat": 4,
 "nbformat_minor": 5
}
