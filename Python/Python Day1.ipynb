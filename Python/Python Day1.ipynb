{
 "cells": [
  {
   "cell_type": "markdown",
   "id": "f1f074ea-8ce9-4c66-9261-eb44786746fa",
   "metadata": {},
   "source": [
    "### Basic Python"
   ]
  },
  {
   "cell_type": "code",
   "execution_count": 9,
   "id": "4ea5aa83-6ac0-4b55-a3e7-70bc23c85ccc",
   "metadata": {},
   "outputs": [],
   "source": [
    "# int \n",
    "a = 10 "
   ]
  },
  {
   "cell_type": "code",
   "execution_count": 10,
   "id": "f2fc491d-8f05-4143-968f-9049cf2daa75",
   "metadata": {},
   "outputs": [
    {
     "data": {
      "text/plain": [
       "10"
      ]
     },
     "execution_count": 10,
     "metadata": {},
     "output_type": "execute_result"
    }
   ],
   "source": [
    "a "
   ]
  },
  {
   "cell_type": "code",
   "execution_count": 5,
   "id": "a9508575-0fce-4607-be6b-50daf29cea29",
   "metadata": {},
   "outputs": [],
   "source": [
    "a = 40 "
   ]
  },
  {
   "cell_type": "code",
   "execution_count": 6,
   "id": "1727be2b-5996-4ff1-af4e-3432b412cae6",
   "metadata": {},
   "outputs": [
    {
     "data": {
      "text/plain": [
       "40"
      ]
     },
     "execution_count": 6,
     "metadata": {},
     "output_type": "execute_result"
    }
   ],
   "source": [
    "a "
   ]
  },
  {
   "cell_type": "code",
   "execution_count": 7,
   "id": "44699ef8-55a4-4bd1-a5eb-031abdfe6f33",
   "metadata": {},
   "outputs": [
    {
     "data": {
      "text/plain": [
       "'Prabhash Kumar Jha'"
      ]
     },
     "execution_count": 7,
     "metadata": {},
     "output_type": "execute_result"
    }
   ],
   "source": [
    "a = \"Prabhash Kumar Jha\" \n",
    "a "
   ]
  },
  {
   "cell_type": "markdown",
   "id": "1f9df15d-ca31-4d54-807a-5b8650723405",
   "metadata": {},
   "source": [
    "- Talk on Dynamic vs static "
   ]
  },
  {
   "cell_type": "markdown",
   "id": "ac27b4f5-3d84-41cb-b191-e69db86753dc",
   "metadata": {},
   "source": [
    "### String concatenation and Replication"
   ]
  },
  {
   "cell_type": "code",
   "execution_count": 36,
   "id": "8bb98838-ae8a-4eb9-91e7-e7a96913afa9",
   "metadata": {},
   "outputs": [
    {
     "data": {
      "text/plain": [
       "'RamSita'"
      ]
     },
     "execution_count": 36,
     "metadata": {},
     "output_type": "execute_result"
    }
   ],
   "source": [
    "'Ram' + 'Sita' # when + is used on two string values, it joins the strings as the string concatenation operator\n",
    "# 'Ram' + 42 # error "
   ]
  },
  {
   "cell_type": "code",
   "execution_count": 41,
   "id": "64f315a0-8df0-4be3-b97c-61d571d9a811",
   "metadata": {},
   "outputs": [
    {
     "data": {
      "text/plain": [
       "'RamRamRamRamRam'"
      ]
     },
     "execution_count": 41,
     "metadata": {},
     "output_type": "execute_result"
    }
   ],
   "source": [
    "# when * is used, replication occurs \n",
    "'Ram' * 5 # string * int \n",
    "# 'Alice' * 5.0 # error "
   ]
  },
  {
   "cell_type": "markdown",
   "id": "48d896ad-d552-4561-96db-c476f14aec81",
   "metadata": {},
   "source": [
    "### comparison between == vs is "
   ]
  },
  {
   "cell_type": "code",
   "execution_count": 39,
   "id": "5b905cd9-42b5-4906-b223-5722bbe130ff",
   "metadata": {},
   "outputs": [
    {
     "data": {
      "text/plain": [
       "' \\n== compares values and \\nis compares refrences \\n'"
      ]
     },
     "execution_count": 39,
     "metadata": {},
     "output_type": "execute_result"
    }
   ],
   "source": [
    "\"\"\" \n",
    "== compares values and \n",
    "is compares refrences \n",
    "\"\"\""
   ]
  },
  {
   "cell_type": "code",
   "execution_count": 9,
   "id": "b1d3f7f8-d135-44ec-836b-6c9ee7b5c963",
   "metadata": {},
   "outputs": [
    {
     "data": {
      "text/plain": [
       "True"
      ]
     },
     "execution_count": 9,
     "metadata": {},
     "output_type": "execute_result"
    }
   ],
   "source": [
    "a = 10 \n",
    "b = 10 \n",
    "\n",
    "# comparison \n",
    "a==b"
   ]
  },
  {
   "cell_type": "code",
   "execution_count": 10,
   "id": "d5ee00dc-e61b-46c8-b5aa-068c9abdf1af",
   "metadata": {},
   "outputs": [
    {
     "data": {
      "text/plain": [
       "True"
      ]
     },
     "execution_count": 10,
     "metadata": {},
     "output_type": "execute_result"
    }
   ],
   "source": [
    "a is b "
   ]
  },
  {
   "cell_type": "markdown",
   "id": "221c0553-ddc7-4990-b96c-1fd449ba7f86",
   "metadata": {},
   "source": [
    "Here both have given true since both a and b are pointing to same object. If they would have pointed to the different object then \n",
    "a == b would have been True and a is b would have been False."
   ]
  },
  {
   "cell_type": "markdown",
   "id": "3652395d-557f-4e9d-b887-87e0af711acf",
   "metadata": {},
   "source": [
    "Fun Fact : It totally depend upon python if it wants to make same object for both or different. The values from -6 to 256 are reserved in python. "
   ]
  },
  {
   "cell_type": "code",
   "execution_count": 11,
   "id": "7a61afe6-0a4d-4115-8cac-1a4ed3bba240",
   "metadata": {},
   "outputs": [],
   "source": [
    "a = 455\n",
    "b = 455 "
   ]
  },
  {
   "cell_type": "code",
   "execution_count": 16,
   "id": "83d4e19a-052b-4071-a807-a150666f81b1",
   "metadata": {},
   "outputs": [
    {
     "data": {
      "text/plain": [
       "False"
      ]
     },
     "execution_count": 16,
     "metadata": {},
     "output_type": "execute_result"
    }
   ],
   "source": [
    "a is b # comment what would be the output ? "
   ]
  },
  {
   "cell_type": "markdown",
   "id": "e8094b53-99c0-4bf5-b176-d92fe364949b",
   "metadata": {},
   "source": [
    "This has given false since -6 to 256 values are reserved in python. "
   ]
  },
  {
   "cell_type": "code",
   "execution_count": 17,
   "id": "ae33cf9f-46ad-4955-9f6c-dca7793fc6e0",
   "metadata": {},
   "outputs": [
    {
     "data": {
      "text/plain": [
       "int"
      ]
     },
     "execution_count": 17,
     "metadata": {},
     "output_type": "execute_result"
    }
   ],
   "source": [
    "# checking the type of data \n",
    "type(a) "
   ]
  },
  {
   "cell_type": "markdown",
   "id": "4c3fb01f-5b54-42d0-a655-fd4fb0dd0f85",
   "metadata": {},
   "source": [
    "### Indentation\n",
    "Indentation refers to the spaces at the beginning of a code line.\n",
    "\n",
    "Where in other programming languages the indentation in code is for readability only, the indentation in Python is very important.\n",
    "\n",
    "Python uses indentation to indicate a block of code."
   ]
  },
  {
   "cell_type": "code",
   "execution_count": 24,
   "id": "ae3ae566-74c6-4e8d-b038-132ef75a75e0",
   "metadata": {},
   "outputs": [
    {
     "name": "stdout",
     "output_type": "stream",
     "text": [
      "5 is greater than 2\n"
     ]
    }
   ],
   "source": [
    "if 5>2:\n",
    "    print('5 is greater than 2') # Both single or double quotes are same. "
   ]
  },
  {
   "cell_type": "code",
   "execution_count": 25,
   "id": "7af875b2-1e4d-49c1-8d51-a7ef9121f131",
   "metadata": {},
   "outputs": [
    {
     "name": "stdout",
     "output_type": "stream",
     "text": [
      "Five is greater than two!\n",
      "Five is greater than two!\n"
     ]
    }
   ],
   "source": [
    "if 5 > 2:\n",
    " print(\"Five is greater than two!\") \n",
    "if 5 > 2:\n",
    "        print(\"Five is greater than two!\") "
   ]
  },
  {
   "cell_type": "code",
   "execution_count": 26,
   "id": "674100d6-27d2-4257-945e-4bc58a39a52e",
   "metadata": {},
   "outputs": [
    {
     "name": "stdout",
     "output_type": "stream",
     "text": [
      "9 is greater than 3\n"
     ]
    }
   ],
   "source": [
    "if 9>3: \n",
    " print(\"9 is greater than 3\") # single space will also work. But there should be identation. "
   ]
  },
  {
   "cell_type": "markdown",
   "id": "6350b1c8-178f-444e-abcf-fdc2e97efbbd",
   "metadata": {},
   "source": [
    "### Casting\n",
    "If you want to specify the data type of a variable, this can be done with casting."
   ]
  },
  {
   "cell_type": "code",
   "execution_count": 27,
   "id": "aad10917-2c79-4713-a952-1c00ea46d004",
   "metadata": {},
   "outputs": [],
   "source": [
    "x = str(3)    # x will be '3'\n",
    "y = int(3)    # y will be 3\n",
    "z = float(3)  # z will be 3.0"
   ]
  },
  {
   "cell_type": "code",
   "execution_count": 28,
   "id": "0d639e05-5c9c-457c-92bb-2b81c4dbdbfb",
   "metadata": {},
   "outputs": [
    {
     "name": "stdout",
     "output_type": "stream",
     "text": [
      "3 3 3.0\n"
     ]
    }
   ],
   "source": [
    "print(x,y,z)"
   ]
  },
  {
   "cell_type": "markdown",
   "id": "fc480316-208d-461b-b03e-d1a44ec602f4",
   "metadata": {},
   "source": [
    "### Case-Sensitive\n",
    "Variable names are case-sensitive."
   ]
  },
  {
   "cell_type": "code",
   "execution_count": 33,
   "id": "b0fc7fbc-ae33-4649-946e-f2cde1666919",
   "metadata": {},
   "outputs": [],
   "source": [
    "a = 3\n",
    "A = \"Ram\"\n",
    "#A will not overwrite a"
   ]
  },
  {
   "cell_type": "code",
   "execution_count": 34,
   "id": "2defb352-7b54-4f69-999a-b5514c4081f9",
   "metadata": {},
   "outputs": [
    {
     "data": {
      "text/plain": [
       "'Ram'"
      ]
     },
     "execution_count": 34,
     "metadata": {},
     "output_type": "execute_result"
    }
   ],
   "source": [
    "A"
   ]
  },
  {
   "cell_type": "markdown",
   "id": "78b35587-9ae3-483a-a8e2-aaa5ddb3d572",
   "metadata": {},
   "source": [
    "### Input() function"
   ]
  },
  {
   "cell_type": "code",
   "execution_count": 43,
   "id": "c9412b8f-9c08-4d21-bb32-49914bbb0767",
   "metadata": {},
   "outputs": [
    {
     "name": "stdin",
     "output_type": "stream",
     "text": [
      " hh\n"
     ]
    },
    {
     "name": "stdout",
     "output_type": "stream",
     "text": [
      "Hello, my name is hh\n"
     ]
    }
   ],
   "source": [
    "my_name = input()\n",
    "\n",
    "print('Hello, my name is ' + my_name )"
   ]
  },
  {
   "cell_type": "markdown",
   "id": "833dd1e5-0522-442e-b2e5-c60ca2fe4d3c",
   "metadata": {},
   "source": [
    "### List "
   ]
  },
  {
   "cell_type": "code",
   "execution_count": 1,
   "id": "2323d8ad-d44e-4e97-8fe2-ff4b47b9f430",
   "metadata": {},
   "outputs": [
    {
     "data": {
      "text/plain": [
       "[0, 1, 2]"
      ]
     },
     "execution_count": 1,
     "metadata": {},
     "output_type": "execute_result"
    }
   ],
   "source": [
    "a = [0,1,2]\n",
    "a "
   ]
  },
  {
   "cell_type": "code",
   "execution_count": 2,
   "id": "a807206a-43f0-421b-be9b-effd5d09c3d2",
   "metadata": {},
   "outputs": [
    {
     "data": {
      "text/plain": [
       "1"
      ]
     },
     "execution_count": 2,
     "metadata": {},
     "output_type": "execute_result"
    }
   ],
   "source": [
    "# index \n",
    "a[1]"
   ]
  },
  {
   "cell_type": "code",
   "execution_count": 3,
   "id": "25a687e1-c5dc-4ecc-9911-c39dc6039535",
   "metadata": {},
   "outputs": [
    {
     "data": {
      "text/plain": [
       "2"
      ]
     },
     "execution_count": 3,
     "metadata": {},
     "output_type": "execute_result"
    }
   ],
   "source": [
    "a[2]"
   ]
  },
  {
   "cell_type": "code",
   "execution_count": 5,
   "id": "a9b43412-a173-4793-924c-e5f548e8e2ff",
   "metadata": {},
   "outputs": [
    {
     "ename": "IndexError",
     "evalue": "list index out of range",
     "output_type": "error",
     "traceback": [
      "\u001b[0;31m---------------------------------------------------------------------------\u001b[0m",
      "\u001b[0;31mIndexError\u001b[0m                                Traceback (most recent call last)",
      "Cell \u001b[0;32mIn[5], line 1\u001b[0m\n\u001b[0;32m----> 1\u001b[0m \u001b[43ma\u001b[49m\u001b[43m[\u001b[49m\u001b[38;5;241;43m3\u001b[39;49m\u001b[43m]\u001b[49m \u001b[38;5;66;03m# error \u001b[39;00m\n",
      "\u001b[0;31mIndexError\u001b[0m: list index out of range"
     ]
    }
   ],
   "source": [
    "a[3] # error "
   ]
  },
  {
   "cell_type": "code",
   "execution_count": 6,
   "id": "18eea586-4092-4509-a7a8-60c64fec5328",
   "metadata": {},
   "outputs": [
    {
     "data": {
      "text/plain": [
       "2"
      ]
     },
     "execution_count": 6,
     "metadata": {},
     "output_type": "execute_result"
    }
   ],
   "source": [
    "a[-1] # from behind "
   ]
  },
  {
   "cell_type": "code",
   "execution_count": 7,
   "id": "8787b194-f667-4c6b-a11e-2598ffeaef5e",
   "metadata": {},
   "outputs": [
    {
     "data": {
      "text/plain": [
       "0"
      ]
     },
     "execution_count": 7,
     "metadata": {},
     "output_type": "execute_result"
    }
   ],
   "source": [
    "a[-3]"
   ]
  },
  {
   "cell_type": "code",
   "execution_count": 8,
   "id": "26ac3b10-b9f0-46b1-810b-1b49d6cf6dcb",
   "metadata": {},
   "outputs": [
    {
     "data": {
      "text/plain": [
       "[345, 'Rahul', 34.6]"
      ]
     },
     "execution_count": 8,
     "metadata": {},
     "output_type": "execute_result"
    }
   ],
   "source": [
    "b = [345, \"Rahul\", 34.6 ]\n",
    "b"
   ]
  },
  {
   "cell_type": "code",
   "execution_count": 13,
   "id": "0706498b-1d11-4b7f-b494-47d0497f0ac1",
   "metadata": {},
   "outputs": [],
   "source": [
    "a = [ 1, 23, 56 ] \n",
    "b = a "
   ]
  },
  {
   "cell_type": "code",
   "execution_count": 14,
   "id": "1c793f92-6ff4-4ecc-a5db-0fe494b63981",
   "metadata": {},
   "outputs": [
    {
     "data": {
      "text/plain": [
       "[1, 23, 56]"
      ]
     },
     "execution_count": 14,
     "metadata": {},
     "output_type": "execute_result"
    }
   ],
   "source": [
    "a "
   ]
  },
  {
   "cell_type": "code",
   "execution_count": 15,
   "id": "9d6191c1-06c9-4d2d-9aa7-ec80e2525e56",
   "metadata": {},
   "outputs": [
    {
     "data": {
      "text/plain": [
       "[1, 23, 56]"
      ]
     },
     "execution_count": 15,
     "metadata": {},
     "output_type": "execute_result"
    }
   ],
   "source": [
    "b"
   ]
  },
  {
   "cell_type": "code",
   "execution_count": 18,
   "id": "e3d1ccab-7df9-4528-9d8b-2aa6a18b0f97",
   "metadata": {},
   "outputs": [],
   "source": [
    "b[0] =100 # changing the value of b will also change the value of a "
   ]
  },
  {
   "cell_type": "code",
   "execution_count": 19,
   "id": "949d1815-0224-4091-8a1b-1a32904c0900",
   "metadata": {},
   "outputs": [
    {
     "data": {
      "text/plain": [
       "[100, 23, 56]"
      ]
     },
     "execution_count": 19,
     "metadata": {},
     "output_type": "execute_result"
    }
   ],
   "source": [
    "a "
   ]
  },
  {
   "cell_type": "code",
   "execution_count": 23,
   "id": "61e72765-ef63-470e-b1d1-494e3a57d82c",
   "metadata": {},
   "outputs": [
    {
     "name": "stdout",
     "output_type": "stream",
     "text": [
      "None\n"
     ]
    }
   ],
   "source": [
    "# we can assign none as well to the list \n",
    "a = None # a will not point to the heap memory rather it will point to none.\n",
    "print(a)"
   ]
  },
  {
   "cell_type": "markdown",
   "id": "f04dfdaf-1ffd-4f61-bee9-b482bb319834",
   "metadata": {},
   "source": [
    "In C++, each element in an array or vector needs to have the same data type. But in python we can have multi-type. "
   ]
  },
  {
   "cell_type": "markdown",
   "id": "9452f4bf-c04d-4043-a2f1-9edae61b487f",
   "metadata": {},
   "source": [
    "### Tuple "
   ]
  },
  {
   "cell_type": "code",
   "execution_count": 24,
   "id": "b4321abe-cdd1-42f1-80b5-cf2c99ef201d",
   "metadata": {},
   "outputs": [
    {
     "data": {
      "text/plain": [
       "(32, 45, 998)"
      ]
     },
     "execution_count": 24,
     "metadata": {},
     "output_type": "execute_result"
    }
   ],
   "source": [
    "a = (32, 45, 998) \n",
    "a "
   ]
  },
  {
   "cell_type": "code",
   "execution_count": 25,
   "id": "a46068d4-e519-4355-938d-cdfe2e3715f1",
   "metadata": {},
   "outputs": [
    {
     "data": {
      "text/plain": [
       "45"
      ]
     },
     "execution_count": 25,
     "metadata": {},
     "output_type": "execute_result"
    }
   ],
   "source": [
    "a[1]"
   ]
  },
  {
   "cell_type": "code",
   "execution_count": 26,
   "id": "13cf15f9-e525-4cbb-b679-5572c1da168a",
   "metadata": {},
   "outputs": [
    {
     "ename": "TypeError",
     "evalue": "'tuple' object does not support item assignment",
     "output_type": "error",
     "traceback": [
      "\u001b[0;31m---------------------------------------------------------------------------\u001b[0m",
      "\u001b[0;31mTypeError\u001b[0m                                 Traceback (most recent call last)",
      "Cell \u001b[0;32mIn[26], line 1\u001b[0m\n\u001b[0;32m----> 1\u001b[0m \u001b[43ma\u001b[49m\u001b[43m[\u001b[49m\u001b[38;5;241;43m0\u001b[39;49m\u001b[43m]\u001b[49m \u001b[38;5;241m=\u001b[39m \u001b[38;5;241m100\u001b[39m \u001b[38;5;66;03m# error - tuple is immutable data type in python and we can not change the values. \u001b[39;00m\n",
      "\u001b[0;31mTypeError\u001b[0m: 'tuple' object does not support item assignment"
     ]
    }
   ],
   "source": [
    "a[0] = 100 # error - tuple is immutable data type in python and we can not change the values. "
   ]
  },
  {
   "cell_type": "markdown",
   "id": "083ab552-080b-4c89-aee8-a48ccf677bb6",
   "metadata": {},
   "source": [
    "Immutable data type could be there for the security reason as well. As we cannot change the values from one refence to another like in list as we change the value of a through the refrence b. "
   ]
  },
  {
   "cell_type": "code",
   "execution_count": 28,
   "id": "d97262c2-328a-4df4-9a04-10e98acec021",
   "metadata": {},
   "outputs": [
    {
     "name": "stdout",
     "output_type": "stream",
     "text": [
      "(78, 89)\n"
     ]
    }
   ],
   "source": [
    "a = ( 78, 89) # here I have not the values of a rather I have assigned the new values to a \n",
    "print(a) "
   ]
  },
  {
   "cell_type": "markdown",
   "id": "6e24b999-43ea-4874-8367-1b9cec531f4a",
   "metadata": {},
   "source": [
    "### Sets \n",
    "Sets are same thing as in maths ie collection of unique elements. "
   ]
  },
  {
   "cell_type": "code",
   "execution_count": 29,
   "id": "f992b14d-d5f4-4a19-bbf3-ebe7e6cb21c8",
   "metadata": {},
   "outputs": [
    {
     "name": "stdout",
     "output_type": "stream",
     "text": [
      "{56, 33}\n"
     ]
    }
   ],
   "source": [
    "a = { 33, 33, 56 } \n",
    "print(a) "
   ]
  },
  {
   "cell_type": "markdown",
   "id": "a4af2ade-49a1-4db2-98ba-9c7903eda0ac",
   "metadata": {},
   "source": [
    "Here, similar values are removed. \n",
    "\n",
    "More Features: \n",
    "> Duplicate values are removed. There is no any order i.e. 1,2,3, the values could be 3, 1,2 "
   ]
  },
  {
   "cell_type": "markdown",
   "id": "5acc4101-325f-4e70-8173-ac5b2cf5b462",
   "metadata": {},
   "source": [
    "### Dictionary \n",
    "They have key value pair. "
   ]
  },
  {
   "cell_type": "code",
   "execution_count": 30,
   "id": "eb41f55a-5818-4e56-bff5-579046a22663",
   "metadata": {},
   "outputs": [
    {
     "name": "stdout",
     "output_type": "stream",
     "text": [
      "{'mango': 'king of fruits', 'apple': 'a sweet red fruit'}\n"
     ]
    }
   ],
   "source": [
    "dicti = {\n",
    "    \"mango\" : \"king of fruits\",\n",
    "    \"apple\" : \"a sweet red fruit\"\n",
    "}\n",
    "print(dicti)"
   ]
  },
  {
   "cell_type": "markdown",
   "id": "816cc803-e97a-4fe6-a3e8-8f685d6d1179",
   "metadata": {},
   "source": [
    "Here, mango and apple are keys and king of fruits and a sweet red fruit are vlaue. "
   ]
  },
  {
   "cell_type": "code",
   "execution_count": 32,
   "id": "357ad7ab-5f6f-49ac-a8ea-a13797046af4",
   "metadata": {},
   "outputs": [
    {
     "data": {
      "text/plain": [
       "'a sweet red fruit'"
      ]
     },
     "execution_count": 32,
     "metadata": {},
     "output_type": "execute_result"
    }
   ],
   "source": [
    "dicti['apple'] # getting the value of apple "
   ]
  },
  {
   "cell_type": "markdown",
   "id": "2cec1128-8278-4e63-9ddc-087f23854109",
   "metadata": {},
   "source": [
    "### Slicing and Comprehension "
   ]
  },
  {
   "cell_type": "code",
   "execution_count": 35,
   "id": "80888d93-0ae3-482b-85bd-62ed1e08330f",
   "metadata": {},
   "outputs": [
    {
     "data": {
      "text/plain": [
       "[3, 34, 5, 2, 35]"
      ]
     },
     "execution_count": 35,
     "metadata": {},
     "output_type": "execute_result"
    }
   ],
   "source": [
    "# slicing \n",
    "# syntax : variable[start:end:step]\n",
    "a = [ 3,34,5, 2,35 ] \n",
    "a[:] # all the elements of a "
   ]
  },
  {
   "cell_type": "code",
   "execution_count": 37,
   "id": "ca18b24a-90da-4d1f-bade-4eea7e4043f5",
   "metadata": {},
   "outputs": [
    {
     "data": {
      "text/plain": [
       "[34, 5]"
      ]
     },
     "execution_count": 37,
     "metadata": {},
     "output_type": "execute_result"
    }
   ],
   "source": [
    "a[1:3]"
   ]
  },
  {
   "cell_type": "markdown",
   "id": "46d772ce-7732-46d4-aaf2-acd8e73216dc",
   "metadata": {},
   "source": [
    "Here, the starting point is inclusive and ending point is exclusive. "
   ]
  },
  {
   "cell_type": "code",
   "execution_count": 39,
   "id": "521a0683-6894-4842-b57a-3a4bd184f8c6",
   "metadata": {},
   "outputs": [
    {
     "data": {
      "text/plain": [
       "[34, 5, 2]"
      ]
     },
     "execution_count": 39,
     "metadata": {},
     "output_type": "execute_result"
    }
   ],
   "source": [
    "# suppose I want value from 34 to 2 then the index value of 34 is 1 which should be included and 2 has index value of 3 which should be excluded. \n",
    "a[1:4] # ending point is excluded and next index is considered."
   ]
  },
  {
   "cell_type": "code",
   "execution_count": 40,
   "id": "86049a95-7921-4c9b-8610-51db77993039",
   "metadata": {},
   "outputs": [
    {
     "data": {
      "text/plain": [
       "[3, 5, 35]"
      ]
     },
     "execution_count": 40,
     "metadata": {},
     "output_type": "execute_result"
    }
   ],
   "source": [
    "a[0:5:2]"
   ]
  },
  {
   "cell_type": "code",
   "execution_count": 43,
   "id": "e68dd403-ad9a-4bf8-879d-3ae92e9ef88d",
   "metadata": {},
   "outputs": [
    {
     "data": {
      "text/plain": [
       "[3, 34, 5, 2]"
      ]
     },
     "execution_count": 43,
     "metadata": {},
     "output_type": "execute_result"
    }
   ],
   "source": [
    "a[:-1] # starting from first element till second last. "
   ]
  },
  {
   "cell_type": "code",
   "execution_count": 45,
   "id": "d860498c-473f-4667-93b4-b01cd881577f",
   "metadata": {},
   "outputs": [
    {
     "data": {
      "text/plain": [
       "[35]"
      ]
     },
     "execution_count": 45,
     "metadata": {},
     "output_type": "execute_result"
    }
   ],
   "source": [
    "a[-1:] # start from last element till end( does not have any value) with 1 step size. "
   ]
  },
  {
   "cell_type": "code",
   "execution_count": 46,
   "id": "2c4ec084-35f9-48b1-b653-e2c891a2c3b8",
   "metadata": {},
   "outputs": [
    {
     "data": {
      "text/plain": [
       "[35, 2, 5, 34, 3]"
      ]
     },
     "execution_count": 46,
     "metadata": {},
     "output_type": "execute_result"
    }
   ],
   "source": [
    "a[-1::-1] # start from last element till the end with -1 step size. # reverse "
   ]
  },
  {
   "cell_type": "markdown",
   "id": "539311c8-611c-4209-b19f-b8272fd85146",
   "metadata": {},
   "source": [
    "## Conditionals "
   ]
  },
  {
   "cell_type": "code",
   "execution_count": 53,
   "id": "e10ba348-9ca5-4b59-968f-046716e56a25",
   "metadata": {},
   "outputs": [
    {
     "name": "stdout",
     "output_type": "stream",
     "text": [
      "a has some value:\n"
     ]
    }
   ],
   "source": [
    "if a: \n",
    "    print(\"a has some value:\")"
   ]
  },
  {
   "cell_type": "code",
   "execution_count": 54,
   "id": "e98f43e8-cdc0-44ad-8773-0602da1df894",
   "metadata": {},
   "outputs": [
    {
     "name": "stdout",
     "output_type": "stream",
     "text": [
      "-1\n"
     ]
    }
   ],
   "source": [
    "if -1: \n",
    "    print(\"-1\")"
   ]
  },
  {
   "cell_type": "code",
   "execution_count": 1,
   "id": "bd4c115f-05b9-454e-881f-449c849e3ed7",
   "metadata": {},
   "outputs": [
    {
     "name": "stdout",
     "output_type": "stream",
     "text": [
      "list\n"
     ]
    }
   ],
   "source": [
    "if [223]: # if some values then true \n",
    "    print(\"list\")"
   ]
  },
  {
   "cell_type": "code",
   "execution_count": 3,
   "id": "98f58408-e0ae-4e64-9c5e-260c0ad19dff",
   "metadata": {},
   "outputs": [],
   "source": [
    "if 0: \n",
    "    print('False') # Nothing will be output as 0 is False."
   ]
  },
  {
   "cell_type": "code",
   "execution_count": 4,
   "id": "fac715e2-a17a-4fc8-bba3-10dc76599f49",
   "metadata": {},
   "outputs": [
    {
     "name": "stdout",
     "output_type": "stream",
     "text": [
      "a is 10\n"
     ]
    }
   ],
   "source": [
    "a = 10 \n",
    "if a == 10: \n",
    "    print(\"a is 10\") "
   ]
  },
  {
   "cell_type": "code",
   "execution_count": 5,
   "id": "b0bb98e5-f109-4237-9bf5-e11dde39eb2c",
   "metadata": {},
   "outputs": [
    {
     "name": "stdout",
     "output_type": "stream",
     "text": [
      "a is not greater than 10\n"
     ]
    }
   ],
   "source": [
    "if a > 10 : \n",
    "    print('a is greater than 10')\n",
    "else: \n",
    "    print('a is not greater than 10')"
   ]
  },
  {
   "cell_type": "code",
   "execution_count": 6,
   "id": "95065b02-ea86-42e7-aefc-b25777e93ee9",
   "metadata": {},
   "outputs": [
    {
     "name": "stdout",
     "output_type": "stream",
     "text": [
      "Equal\n"
     ]
    }
   ],
   "source": [
    "if a > 10: \n",
    "    print(\"yes\")\n",
    "elif a < 10 : \n",
    "    print(\"less\")\n",
    "else: \n",
    "    print(\"Equal\")"
   ]
  },
  {
   "cell_type": "markdown",
   "id": "8aa53774-2f19-4721-839c-2a9f7c2ad8d6",
   "metadata": {},
   "source": [
    "As already studied above indentation is quite important in python, the block of code inside the conditionals should have same indentation. "
   ]
  },
  {
   "cell_type": "code",
   "execution_count": 7,
   "id": "238a22e8-724b-4483-84ee-a3e747abe0f5",
   "metadata": {},
   "outputs": [
    {
     "ename": "IndentationError",
     "evalue": "unexpected indent (2271232016.py, line 3)",
     "output_type": "error",
     "traceback": [
      "\u001b[0;36m  Cell \u001b[0;32mIn[7], line 3\u001b[0;36m\u001b[0m\n\u001b[0;31m    print('b') # error\u001b[0m\n\u001b[0m    ^\u001b[0m\n\u001b[0;31mIndentationError\u001b[0m\u001b[0;31m:\u001b[0m unexpected indent\n"
     ]
    }
   ],
   "source": [
    "if a : \n",
    "    print('a')\n",
    "      print('b') # error "
   ]
  },
  {
   "cell_type": "code",
   "execution_count": 8,
   "id": "12c63ae0-6847-4d82-a72f-7a3b80ccb9ab",
   "metadata": {},
   "outputs": [
    {
     "name": "stdout",
     "output_type": "stream",
     "text": [
      "a\n",
      "b\n"
     ]
    }
   ],
   "source": [
    "if a : \n",
    "    print('a')\n",
    "    print('b')  "
   ]
  },
  {
   "cell_type": "markdown",
   "id": "ea034c58-8aa0-4939-b2cb-93f1501edf59",
   "metadata": {},
   "source": [
    "## Loops "
   ]
  },
  {
   "cell_type": "markdown",
   "id": "295a69f0-e901-4a30-8f8c-777a279e8fbb",
   "metadata": {},
   "source": [
    "### For loops and while loops "
   ]
  },
  {
   "cell_type": "markdown",
   "id": "d753aa99-1846-4cc6-a3db-7bc9646a487a",
   "metadata": {},
   "source": [
    "#### syntax for 'for' loop \n",
    "for varible in iterator:# variables could be anything, will be pointing to the iterator. \n",
    "     "
   ]
  },
  {
   "cell_type": "code",
   "execution_count": 10,
   "id": "3a844cf5-4479-4a9a-81b6-617f6d4f4780",
   "metadata": {},
   "outputs": [
    {
     "name": "stdout",
     "output_type": "stream",
     "text": [
      "4\n",
      "45\n",
      "6\n"
     ]
    }
   ],
   "source": [
    "a = [4,45,6] # Iterator - sth that will iterate over eg, string, list, tuples and other. \n",
    "for num in a: \n",
    "    print(num)"
   ]
  },
  {
   "cell_type": "code",
   "execution_count": 12,
   "id": "9c28fcae-26cf-41a9-b935-72d6f30b534c",
   "metadata": {},
   "outputs": [
    {
     "name": "stdout",
     "output_type": "stream",
     "text": [
      "P\n",
      "r\n",
      "a\n",
      "b\n",
      "h\n",
      "a\n",
      "s\n",
      "h\n"
     ]
    }
   ],
   "source": [
    "s = 'Prabhash'\n",
    "for ch in s: \n",
    "    print(ch) "
   ]
  },
  {
   "cell_type": "code",
   "execution_count": 13,
   "id": "5aa0a9a5-8de7-4058-87e2-ee48f9103ab6",
   "metadata": {},
   "outputs": [
    {
     "name": "stdout",
     "output_type": "stream",
     "text": [
      "4\n",
      "5\n",
      "6\n"
     ]
    }
   ],
   "source": [
    "a = [4,5,6] \n",
    "for oli in a: \n",
    "    print(oli) "
   ]
  },
  {
   "cell_type": "markdown",
   "id": "4eccaedf-f7e0-4c8b-b355-a742067dd8c9",
   "metadata": {},
   "source": [
    "#### using index in for loops"
   ]
  },
  {
   "cell_type": "code",
   "execution_count": 19,
   "id": "465e740d-6df2-471a-8c63-6af83aca8b9c",
   "metadata": {},
   "outputs": [
    {
     "name": "stdout",
     "output_type": "stream",
     "text": [
      "0 3\n",
      "1 4\n",
      "2 5\n"
     ]
    }
   ],
   "source": [
    "a = [3,4,5] \n",
    "for index, ch in enumerate(a):\n",
    "    print(index,ch)"
   ]
  },
  {
   "cell_type": "markdown",
   "id": "15beb801-97ed-49a3-a348-2a734f1d1165",
   "metadata": {},
   "source": [
    "index, ch is doing tupling. What does that means ? "
   ]
  },
  {
   "cell_type": "code",
   "execution_count": 20,
   "id": "d9733f55-737d-42af-9fa2-d3af339d8626",
   "metadata": {},
   "outputs": [
    {
     "name": "stdout",
     "output_type": "stream",
     "text": [
      "30\n",
      "20\n"
     ]
    }
   ],
   "source": [
    "# lets say to swap to value \n",
    "a = 20 \n",
    "b = 30 \n",
    "\n",
    "a,b = b,a # swapping \n",
    "\n",
    "print(a) \n",
    "print(b)"
   ]
  },
  {
   "cell_type": "markdown",
   "id": "f33e8acd-e0b0-46ce-a98a-4574279b5d74",
   "metadata": {},
   "source": [
    "(a, b) = ( 30, 20)  # this is what happening making an tuple "
   ]
  },
  {
   "cell_type": "markdown",
   "id": "3b2156ab-f2f4-49d3-abd8-64237aea1a14",
   "metadata": {},
   "source": [
    "In above code, enumerate is making tuple ie, \n",
    "index, ch = ( index, value ) "
   ]
  },
  {
   "cell_type": "code",
   "execution_count": 22,
   "id": "4629218d-5485-49e6-81fb-f18b42c1120a",
   "metadata": {},
   "outputs": [
    {
     "name": "stdout",
     "output_type": "stream",
     "text": [
      "0 3\n",
      "1 5\n",
      "2 5\n"
     ]
    }
   ],
   "source": [
    "a = [3,5,5]\n",
    "for index, ch in enumerate(a):\n",
    "    print(index,a[index])"
   ]
  },
  {
   "cell_type": "markdown",
   "id": "6006ff75-5060-444d-9ef6-39cf4b9157dd",
   "metadata": {},
   "source": [
    "### While loops \n",
    "We provide condition to the while and if the condition is TRUE, the body will execute. "
   ]
  },
  {
   "cell_type": "code",
   "execution_count": 27,
   "id": "a84d6291-d861-46ee-85da-afd94cbe63cd",
   "metadata": {},
   "outputs": [
    {
     "name": "stdout",
     "output_type": "stream",
     "text": [
      "5\n",
      "4\n",
      "3\n",
      "2\n",
      "1\n"
     ]
    }
   ],
   "source": [
    "a = 5 \n",
    "while a > 0: \n",
    "    print(a)\n",
    "    a = a - 1"
   ]
  },
  {
   "cell_type": "markdown",
   "id": "0dd5b0ff-5d2d-4927-a573-1a5b34497550",
   "metadata": {},
   "source": [
    "### Range "
   ]
  },
  {
   "cell_type": "code",
   "execution_count": 28,
   "id": "aafbd2af-08e5-4511-8e53-1198eb5af2a1",
   "metadata": {},
   "outputs": [
    {
     "data": {
      "text/plain": [
       "range(1, 10, 2)"
      ]
     },
     "execution_count": 28,
     "metadata": {},
     "output_type": "execute_result"
    }
   ],
   "source": [
    "a = range(1,10,2) \n",
    "a # will provide the object of type range "
   ]
  },
  {
   "cell_type": "code",
   "execution_count": 31,
   "id": "d28fad35-84db-4cb9-bcff-c83cea3c31e6",
   "metadata": {},
   "outputs": [
    {
     "data": {
      "text/plain": [
       "[1, 3, 5, 7, 9]"
      ]
     },
     "execution_count": 31,
     "metadata": {},
     "output_type": "execute_result"
    }
   ],
   "source": [
    "a = list(range(1,10,2)) # converting the range into list # start - 1 end - 10 and step_size = 2 \n",
    "a "
   ]
  },
  {
   "cell_type": "code",
   "execution_count": 32,
   "id": "2708db54-19f7-40ef-8d5d-6d97d4beedef",
   "metadata": {},
   "outputs": [
    {
     "name": "stdout",
     "output_type": "stream",
     "text": [
      "1\n",
      "2\n",
      "3\n",
      "4\n"
     ]
    }
   ],
   "source": [
    "for uncle in range(1,5): # start - 1 , end - 5 , step_size - 1\n",
    "    print(uncle) "
   ]
  },
  {
   "cell_type": "markdown",
   "id": "f9f1a388-51c8-4b85-a0c9-66e4a8366d09",
   "metadata": {},
   "source": [
    "#### using for loops with list "
   ]
  },
  {
   "cell_type": "code",
   "execution_count": 33,
   "id": "6f827c4d-f999-4d62-9a13-f301ae34dc64",
   "metadata": {},
   "outputs": [
    {
     "data": {
      "text/plain": [
       "[1, 2, 3, 4, 5]"
      ]
     },
     "execution_count": 33,
     "metadata": {},
     "output_type": "execute_result"
    }
   ],
   "source": [
    "a = [i for i in range(1,6)]\n",
    "a # list comprehension - will print first 5 natural numbers "
   ]
  },
  {
   "cell_type": "markdown",
   "id": "d69454aa-de45-449f-81e6-a61736ab332c",
   "metadata": {},
   "source": [
    "First i: This i is used as a placeholder variable within the list comprehension. It represents each element that is being generated by the range(1, 6) function call and included in the list a. It's similar to how i was used in the previous explanation of the loop. In this context, it's used to construct the list by iterating over the elements generated by range(1, 6).\n",
    "\n",
    "Second i: This i is used as the loop variable in the list comprehension. It iterates over the sequence generated by range(1, 6), taking on each value in that sequence in turn. So, in each iteration of the list comprehension, this i represents one of the numbers from 1 to 5 (inclusive).\n",
    "\n",
    "In summary, both i's play a role in generating the list a, with the first i defining what each element in the list will be, and the second i iterating over the sequence of numbers generated by range(1, 6)."
   ]
  },
  {
   "cell_type": "code",
   "execution_count": 37,
   "id": "f8f844cd-1609-4184-a6dc-0d91abfb29f7",
   "metadata": {},
   "outputs": [
    {
     "ename": "NameError",
     "evalue": "name 'i' is not defined",
     "output_type": "error",
     "traceback": [
      "\u001b[0;31m---------------------------------------------------------------------------\u001b[0m",
      "\u001b[0;31mNameError\u001b[0m                                 Traceback (most recent call last)",
      "Cell \u001b[0;32mIn[37], line 1\u001b[0m\n\u001b[0;32m----> 1\u001b[0m a \u001b[38;5;241m=\u001b[39m \u001b[43m[\u001b[49m\u001b[43mi\u001b[49m\u001b[43m \u001b[49m\u001b[38;5;28;43;01mfor\u001b[39;49;00m\u001b[43m \u001b[49m\u001b[43mgandhi\u001b[49m\u001b[43m \u001b[49m\u001b[38;5;129;43;01min\u001b[39;49;00m\u001b[43m \u001b[49m\u001b[38;5;28;43mrange\u001b[39;49m\u001b[43m(\u001b[49m\u001b[38;5;241;43m1\u001b[39;49m\u001b[43m,\u001b[49m\u001b[38;5;241;43m6\u001b[39;49m\u001b[43m)\u001b[49m\u001b[43m]\u001b[49m\n\u001b[1;32m      2\u001b[0m a  \u001b[38;5;66;03m# error \u001b[39;00m\n",
      "Cell \u001b[0;32mIn[37], line 1\u001b[0m, in \u001b[0;36m<listcomp>\u001b[0;34m(.0)\u001b[0m\n\u001b[0;32m----> 1\u001b[0m a \u001b[38;5;241m=\u001b[39m [\u001b[43mi\u001b[49m \u001b[38;5;28;01mfor\u001b[39;00m gandhi \u001b[38;5;129;01min\u001b[39;00m \u001b[38;5;28mrange\u001b[39m(\u001b[38;5;241m1\u001b[39m,\u001b[38;5;241m6\u001b[39m)]\n\u001b[1;32m      2\u001b[0m a  \u001b[38;5;66;03m# error \u001b[39;00m\n",
      "\u001b[0;31mNameError\u001b[0m: name 'i' is not defined"
     ]
    }
   ],
   "source": [
    "a = [i for gandhi in range(1,6)]\n",
    "a  # error "
   ]
  },
  {
   "cell_type": "code",
   "execution_count": 38,
   "id": "3fe67bbc-df3b-487e-8c45-65cadfa92dbd",
   "metadata": {},
   "outputs": [
    {
     "data": {
      "text/plain": [
       "[1, 2, 3, 4, 5]"
      ]
     },
     "execution_count": 38,
     "metadata": {},
     "output_type": "execute_result"
    }
   ],
   "source": [
    "a = [gandhi for gandhi in range(1,6)]\n",
    "a "
   ]
  },
  {
   "cell_type": "code",
   "execution_count": 41,
   "id": "c00fb759-7dfc-40f4-a35c-04989e6e757c",
   "metadata": {},
   "outputs": [
    {
     "data": {
      "text/plain": [
       "[2, 4, 6, 8, 10, 12, 14, 16, 18, 20]"
      ]
     },
     "execution_count": 41,
     "metadata": {},
     "output_type": "execute_result"
    }
   ],
   "source": [
    "# print two's table \n",
    "t = [2*i for i in range(1,11)] \n",
    "t "
   ]
  },
  {
   "cell_type": "code",
   "execution_count": 15,
   "id": "f8094a43-1d4b-4445-b294-61f43a45f4cb",
   "metadata": {},
   "outputs": [
    {
     "data": {
      "text/plain": [
       "[3, 6, 9, 12, 15, 18, 21, 24, 27, 30]"
      ]
     },
     "execution_count": 15,
     "metadata": {},
     "output_type": "execute_result"
    }
   ],
   "source": [
    "n = 3 \n",
    "t = [i*n for i in range(1,11)]\n",
    "t # table of 3 "
   ]
  },
  {
   "cell_type": "markdown",
   "id": "50d53783-345e-4185-a724-bd7b473f4e15",
   "metadata": {},
   "source": [
    "Here, 2*i is going to run for every value in that range. List comprehension is used to make the program more readable and simple. "
   ]
  },
  {
   "cell_type": "code",
   "execution_count": 8,
   "id": "d401ec95-2061-4531-b5d7-bc83cd1ac5a8",
   "metadata": {},
   "outputs": [
    {
     "data": {
      "text/plain": [
       "[[2, 4], [5, 6]]"
      ]
     },
     "execution_count": 8,
     "metadata": {},
     "output_type": "execute_result"
    }
   ],
   "source": [
    "# 2D list \n",
    "a = [[2,4],\n",
    "     [5,6]]\n",
    "a "
   ]
  },
  {
   "cell_type": "code",
   "execution_count": 9,
   "id": "e3b2a2c4-7ea4-4eb4-87d6-47ad5fc5c993",
   "metadata": {},
   "outputs": [
    {
     "data": {
      "text/plain": [
       "4"
      ]
     },
     "execution_count": 9,
     "metadata": {},
     "output_type": "execute_result"
    }
   ],
   "source": [
    "# accessing the elements of the 2D array \n",
    "a[0][1] # a[row][columns]"
   ]
  },
  {
   "cell_type": "code",
   "execution_count": 10,
   "id": "203019fc-89b0-4bbf-8233-1a209fdb3b6f",
   "metadata": {},
   "outputs": [
    {
     "data": {
      "text/plain": [
       "2"
      ]
     },
     "execution_count": 10,
     "metadata": {},
     "output_type": "execute_result"
    }
   ],
   "source": [
    "len(a) # number of rows "
   ]
  },
  {
   "cell_type": "code",
   "execution_count": 11,
   "id": "4701e806-b74e-4348-9464-1a0982de94b4",
   "metadata": {},
   "outputs": [
    {
     "data": {
      "text/plain": [
       "2"
      ]
     },
     "execution_count": 11,
     "metadata": {},
     "output_type": "execute_result"
    }
   ],
   "source": [
    "len(a[0]) # number of columns in row0 "
   ]
  },
  {
   "cell_type": "code",
   "execution_count": 13,
   "id": "6986a59d-0e52-45db-9f20-fdb9a6f5dc05",
   "metadata": {},
   "outputs": [
    {
     "name": "stdout",
     "output_type": "stream",
     "text": [
      "[2, 4, 6]\n"
     ]
    }
   ],
   "source": [
    "# converting the tuple into list \n",
    "t = (2,4,6) \n",
    "l = list(t) \n",
    "print(l)"
   ]
  },
  {
   "cell_type": "markdown",
   "id": "e42b3627-25a8-4ac7-8a52-f300f221b7d6",
   "metadata": {},
   "source": [
    "#### Break \n",
    "used to break out of loop "
   ]
  },
  {
   "cell_type": "code",
   "execution_count": 16,
   "id": "c3bd642f-ac65-4c83-bb31-c3ff034cd42c",
   "metadata": {},
   "outputs": [
    {
     "data": {
      "text/plain": [
       "[1, 2, 3, 4, 5, 6, 7, 8, 9, 10]"
      ]
     },
     "execution_count": 16,
     "metadata": {},
     "output_type": "execute_result"
    }
   ],
   "source": [
    "a = list(range(1,11)) \n",
    "a "
   ]
  },
  {
   "cell_type": "code",
   "execution_count": 21,
   "id": "5db1b28e-55b8-4f69-a02b-93d07804fa64",
   "metadata": {},
   "outputs": [
    {
     "name": "stdout",
     "output_type": "stream",
     "text": [
      "1 2 3 4 5 6 "
     ]
    }
   ],
   "source": [
    "for i in a: \n",
    "    print(i, end =\" \")\n",
    "    if i==6: \n",
    "        break"
   ]
  },
  {
   "cell_type": "code",
   "execution_count": 22,
   "id": "a7854feb-996b-4462-9281-cb66af7b8055",
   "metadata": {},
   "outputs": [
    {
     "name": "stdout",
     "output_type": "stream",
     "text": [
      "1 2 3 4 5 7 8 9 10 "
     ]
    }
   ],
   "source": [
    "for i in a: \n",
    "    if i==6: \n",
    "        continue # will skip the value of 6 \n",
    "    print(i, end =\" \")"
   ]
  },
  {
   "cell_type": "markdown",
   "id": "a4feb10a-c565-4314-b14a-6b772aafa997",
   "metadata": {},
   "source": [
    "#### for else \n",
    "when break condition is provided, it will not run the break condition and when break condition is not provided it will run the else condition. "
   ]
  },
  {
   "cell_type": "code",
   "execution_count": 23,
   "id": "194e0fdb-bd6a-46cb-9098-0035aec5510b",
   "metadata": {},
   "outputs": [
    {
     "name": "stdout",
     "output_type": "stream",
     "text": [
      "1 2 3 4 5 6 "
     ]
    }
   ],
   "source": [
    "for i in a: \n",
    "    print(i, end =\" \")\n",
    "    if i==6: \n",
    "        break\n",
    "else: \n",
    "    print(\"\\nfor/else statement is run\")"
   ]
  },
  {
   "cell_type": "code",
   "execution_count": 25,
   "id": "874e5c30-be77-4bb3-b2f1-63d6dfc2a251",
   "metadata": {},
   "outputs": [
    {
     "name": "stdout",
     "output_type": "stream",
     "text": [
      "1 2 3 4 5 6 7 8 9 10 \n",
      "for/else statement is run\n"
     ]
    }
   ],
   "source": [
    "for i in a: \n",
    "    print(i, end =\" \")\n",
    "    # if i==6: \n",
    "    #     break\n",
    "else: \n",
    "    print(\"\\nfor/else statement is run\") #  \\n - breaks the line "
   ]
  },
  {
   "cell_type": "markdown",
   "id": "e66dd152-f216-4ae4-9198-93ad0ea18ce3",
   "metadata": {},
   "source": [
    "## Function"
   ]
  },
  {
   "cell_type": "markdown",
   "id": "5a173687-eb51-464b-b480-80f7f00d8266",
   "metadata": {},
   "source": [
    "Fuctions are basically collection of your programs. \n",
    "- syntax - \n",
    "def function_name(parameters):\n",
    "    code to be executed\n",
    "    return type"
   ]
  },
  {
   "cell_type": "code",
   "execution_count": 27,
   "id": "bdfd9a5d-6748-43aa-a5f1-80fb0c0709a1",
   "metadata": {},
   "outputs": [
    {
     "name": "stdout",
     "output_type": "stream",
     "text": [
      "Hello world\n"
     ]
    }
   ],
   "source": [
    "def fun():\n",
    "    print(\"Hello world\")\n",
    "\n",
    "fun() # calling an fun"
   ]
  },
  {
   "cell_type": "code",
   "execution_count": 36,
   "id": "cc37aa29-781d-48b9-a65a-316a4fbfc349",
   "metadata": {},
   "outputs": [
    {
     "name": "stdout",
     "output_type": "stream",
     "text": [
      "Hello world\n"
     ]
    }
   ],
   "source": [
    "# if there is no return type, function returns none \n",
    "a = fun()"
   ]
  },
  {
   "cell_type": "code",
   "execution_count": 38,
   "id": "6d00bfc3-043f-47e9-ad55-e9eb220c6ff6",
   "metadata": {},
   "outputs": [
    {
     "name": "stdout",
     "output_type": "stream",
     "text": [
      "None\n"
     ]
    }
   ],
   "source": [
    "print(a) "
   ]
  },
  {
   "cell_type": "code",
   "execution_count": 31,
   "id": "f0086f08-ab9f-41ee-998a-13e9470ae90c",
   "metadata": {},
   "outputs": [],
   "source": [
    "def ff(): \n",
    "    return 3 "
   ]
  },
  {
   "cell_type": "code",
   "execution_count": 32,
   "id": "7513e83b-cf0b-4374-ace7-5706bcf65142",
   "metadata": {},
   "outputs": [],
   "source": [
    "b = ff() "
   ]
  },
  {
   "cell_type": "code",
   "execution_count": 33,
   "id": "07df6d2e-7571-4dfa-85e0-0d4a76aea7ce",
   "metadata": {},
   "outputs": [
    {
     "name": "stdout",
     "output_type": "stream",
     "text": [
      "3\n"
     ]
    }
   ],
   "source": [
    "print(b)"
   ]
  },
  {
   "cell_type": "code",
   "execution_count": 39,
   "id": "b06ac446-de2b-4463-b9bb-bbf6a4a50dad",
   "metadata": {},
   "outputs": [],
   "source": [
    "# add 2 numbers \n",
    "def sum(a,b): \n",
    "    return a+b"
   ]
  },
  {
   "cell_type": "code",
   "execution_count": 40,
   "id": "4d4140d0-76df-42e0-be3f-fedfadd3eca1",
   "metadata": {},
   "outputs": [
    {
     "name": "stdout",
     "output_type": "stream",
     "text": [
      "7\n"
     ]
    }
   ],
   "source": [
    "print(sum(3,4))"
   ]
  },
  {
   "cell_type": "markdown",
   "id": "3c2e816b-0fda-4df1-a88d-48405f4b6818",
   "metadata": {},
   "source": [
    "#### Lambda Function \n",
    "if your function body is small, then use inline/lambda function. "
   ]
  },
  {
   "cell_type": "markdown",
   "id": "e5a2bfce-4848-4655-ae39-8a6fcd695e25",
   "metadata": {},
   "source": [
    "##### Comparison betn lambda function and function> "
   ]
  },
  {
   "cell_type": "code",
   "execution_count": 41,
   "id": "5b96078d-ad99-4ece-a308-97cb48b81597",
   "metadata": {},
   "outputs": [],
   "source": [
    "def fun(a):\n",
    "    print(a) "
   ]
  },
  {
   "cell_type": "code",
   "execution_count": 44,
   "id": "e5b830ac-4973-4e99-86b3-dc3db28d6004",
   "metadata": {},
   "outputs": [],
   "source": [
    "fun = lambda a:print(a) # Here fun(fun_name is variable) and parameter is {lambda a}, a is parameter inside above fun "
   ]
  },
  {
   "cell_type": "code",
   "execution_count": 43,
   "id": "bdaf4313-44b0-40e4-b79e-8974915df1ae",
   "metadata": {},
   "outputs": [
    {
     "name": "stdout",
     "output_type": "stream",
     "text": [
      "Hello world\n"
     ]
    }
   ],
   "source": [
    "fun(\"Hello world\")"
   ]
  },
  {
   "cell_type": "code",
   "execution_count": 45,
   "id": "6a671e18-959a-4042-b543-befb5e62df58",
   "metadata": {},
   "outputs": [],
   "source": [
    "# again for add"
   ]
  },
  {
   "cell_type": "code",
   "execution_count": 50,
   "id": "fd1bbc1a-0397-47d4-82c9-1078565129f2",
   "metadata": {},
   "outputs": [],
   "source": [
    "# def add(a,b): \n",
    "#     return a+b "
   ]
  },
  {
   "cell_type": "code",
   "execution_count": 51,
   "id": "b2d37424-72ec-400b-85a7-6c253c4e7b77",
   "metadata": {},
   "outputs": [],
   "source": [
    "add = lambda a,b: a + b"
   ]
  },
  {
   "cell_type": "code",
   "execution_count": 52,
   "id": "025177af-bccf-460f-b9eb-c3cabb0a020a",
   "metadata": {},
   "outputs": [
    {
     "data": {
      "text/plain": [
       "7"
      ]
     },
     "execution_count": 52,
     "metadata": {},
     "output_type": "execute_result"
    }
   ],
   "source": [
    "add(3,4)"
   ]
  },
  {
   "cell_type": "markdown",
   "id": "53355ed6-c18d-484a-8e51-efaacc78c018",
   "metadata": {},
   "source": [
    "While lambda functions can be convenient, they are not necessarily related to performance improvements in the same way as inline functions in C++. They are more about conciseness and readability."
   ]
  },
  {
   "cell_type": "markdown",
   "id": "f1e67416-08a3-404c-8405-9b8586c5425e",
   "metadata": {},
   "source": [
    "#### Map Function \n",
    "Applies a given function to each element of iterable "
   ]
  },
  {
   "cell_type": "code",
   "execution_count": 57,
   "id": "954ecf73-7226-4be6-adbb-8a5e6d2c8ed8",
   "metadata": {},
   "outputs": [
    {
     "data": {
      "text/plain": [
       "\u001b[0;31mSignature:\u001b[0m \u001b[0mprint\u001b[0m\u001b[0;34m(\u001b[0m\u001b[0;34m*\u001b[0m\u001b[0margs\u001b[0m\u001b[0;34m,\u001b[0m \u001b[0msep\u001b[0m\u001b[0;34m=\u001b[0m\u001b[0;34m' '\u001b[0m\u001b[0;34m,\u001b[0m \u001b[0mend\u001b[0m\u001b[0;34m=\u001b[0m\u001b[0;34m'\\n'\u001b[0m\u001b[0;34m,\u001b[0m \u001b[0mfile\u001b[0m\u001b[0;34m=\u001b[0m\u001b[0;32mNone\u001b[0m\u001b[0;34m,\u001b[0m \u001b[0mflush\u001b[0m\u001b[0;34m=\u001b[0m\u001b[0;32mFalse\u001b[0m\u001b[0;34m)\u001b[0m\u001b[0;34m\u001b[0m\u001b[0;34m\u001b[0m\u001b[0m\n",
       "\u001b[0;31mDocstring:\u001b[0m\n",
       "Prints the values to a stream, or to sys.stdout by default.\n",
       "\n",
       "sep\n",
       "  string inserted between values, default a space.\n",
       "end\n",
       "  string appended after the last value, default a newline.\n",
       "file\n",
       "  a file-like object (stream); defaults to the current sys.stdout.\n",
       "flush\n",
       "  whether to forcibly flush the stream.\n",
       "\u001b[0;31mType:\u001b[0m      builtin_function_or_method"
      ]
     },
     "metadata": {},
     "output_type": "display_data"
    }
   ],
   "source": [
    "# how to check the description of the keywords in python \n",
    "?print\n",
    "#help(print)"
   ]
  },
  {
   "cell_type": "code",
   "execution_count": 58,
   "id": "5e99d47e-ad07-4012-93b7-44b20eda5c02",
   "metadata": {},
   "outputs": [
    {
     "data": {
      "text/plain": [
       "\u001b[0;31mInit signature:\u001b[0m \u001b[0mmap\u001b[0m\u001b[0;34m(\u001b[0m\u001b[0mself\u001b[0m\u001b[0;34m,\u001b[0m \u001b[0;34m/\u001b[0m\u001b[0;34m,\u001b[0m \u001b[0;34m*\u001b[0m\u001b[0margs\u001b[0m\u001b[0;34m,\u001b[0m \u001b[0;34m**\u001b[0m\u001b[0mkwargs\u001b[0m\u001b[0;34m)\u001b[0m\u001b[0;34m\u001b[0m\u001b[0;34m\u001b[0m\u001b[0m\n",
       "\u001b[0;31mDocstring:\u001b[0m     \n",
       "map(func, *iterables) --> map object\n",
       "\n",
       "Make an iterator that computes the function using arguments from\n",
       "each of the iterables.  Stops when the shortest iterable is exhausted.\n",
       "\u001b[0;31mType:\u001b[0m           type\n",
       "\u001b[0;31mSubclasses:\u001b[0m     "
      ]
     },
     "metadata": {},
     "output_type": "display_data"
    }
   ],
   "source": [
    "?map"
   ]
  },
  {
   "cell_type": "code",
   "execution_count": 61,
   "id": "4fac37c3-4005-4f2b-91f1-6fb9c7ba1602",
   "metadata": {},
   "outputs": [],
   "source": [
    "# multiply each number in list by 2 \n",
    "a = [2,3,4,5] \n",
    "def multiply(x):\n",
    "    return 2*x"
   ]
  },
  {
   "cell_type": "code",
   "execution_count": 64,
   "id": "7a4d1354-18d1-4a55-b77d-95a99adbcc8c",
   "metadata": {},
   "outputs": [
    {
     "data": {
      "text/plain": [
       "[2, 3, 4, 5, 2, 3, 4, 5]"
      ]
     },
     "execution_count": 64,
     "metadata": {},
     "output_type": "execute_result"
    }
   ],
   "source": [
    "multiply(a) # this will not work as it will not multiply the value rather will print the value twice. "
   ]
  },
  {
   "cell_type": "markdown",
   "id": "09b0b314-89e2-4508-a361-57f1d0e77579",
   "metadata": {},
   "source": [
    "So now to mulitply each values "
   ]
  },
  {
   "cell_type": "code",
   "execution_count": 65,
   "id": "079ecca2-d8fb-4340-a8be-3d4337150778",
   "metadata": {},
   "outputs": [
    {
     "data": {
      "text/plain": [
       "<map at 0x7fab71a2bbb0>"
      ]
     },
     "execution_count": 65,
     "metadata": {},
     "output_type": "execute_result"
    }
   ],
   "source": [
    "map(multiply, a)"
   ]
  },
  {
   "cell_type": "code",
   "execution_count": 67,
   "id": "a48e4a33-b3ff-4378-9e0a-690f638adb39",
   "metadata": {},
   "outputs": [
    {
     "data": {
      "text/plain": [
       "[4, 6, 8, 10]"
      ]
     },
     "execution_count": 67,
     "metadata": {},
     "output_type": "execute_result"
    }
   ],
   "source": [
    "# to print the list of value \n",
    "list(map(multiply, a)) # applied multiply to every element of a "
   ]
  },
  {
   "cell_type": "code",
   "execution_count": 69,
   "id": "d9ea2bc6-8de6-43f4-9ed3-8b05060dee7a",
   "metadata": {},
   "outputs": [
    {
     "data": {
      "text/plain": [
       "[4, 6, 8, 10]"
      ]
     },
     "execution_count": 69,
     "metadata": {},
     "output_type": "execute_result"
    }
   ],
   "source": [
    "# doing same thing using lambda ( does the work in one line ) \n",
    "list(map(lambda x: 2*x, a))"
   ]
  },
  {
   "cell_type": "code",
   "execution_count": 71,
   "id": "4c5e1b80-4f52-41b1-a508-4f31968ccc46",
   "metadata": {},
   "outputs": [
    {
     "data": {
      "text/plain": [
       "[4, 9, 16, 25]"
      ]
     },
     "execution_count": 71,
     "metadata": {},
     "output_type": "execute_result"
    }
   ],
   "source": [
    "# make every element power of that element \n",
    "list(map(lambda x: x*x, a)) # or (lambda x : x ** 2 , a)"
   ]
  },
  {
   "cell_type": "markdown",
   "id": "3155fc3d-8899-4d0c-837a-8a7e546621c6",
   "metadata": {},
   "source": [
    "#### Filter Function \n",
    "The function return True or False only ! "
   ]
  },
  {
   "cell_type": "code",
   "execution_count": 72,
   "id": "f88c2fc3-6115-48ef-b338-c232d61f3742",
   "metadata": {},
   "outputs": [],
   "source": [
    "# want event number \n",
    "a = [1,2,3,4,5,6,7,8,9,10]"
   ]
  },
  {
   "cell_type": "code",
   "execution_count": 73,
   "id": "c01291dc-a950-4037-b7f2-f7f3e01d566c",
   "metadata": {},
   "outputs": [],
   "source": [
    "def isEven(x):\n",
    "    if x%2 == 0 : \n",
    "        return True\n",
    "    else: \n",
    "        return False "
   ]
  },
  {
   "cell_type": "code",
   "execution_count": 74,
   "id": "613382d3-a5af-4dad-8efb-44992629e932",
   "metadata": {},
   "outputs": [
    {
     "data": {
      "text/plain": [
       "False"
      ]
     },
     "execution_count": 74,
     "metadata": {},
     "output_type": "execute_result"
    }
   ],
   "source": [
    "isEven(5)"
   ]
  },
  {
   "cell_type": "code",
   "execution_count": 75,
   "id": "238969e6-8a6d-4806-8f23-749102c9059d",
   "metadata": {},
   "outputs": [
    {
     "data": {
      "text/plain": [
       "[2, 4, 6, 8, 10]"
      ]
     },
     "execution_count": 75,
     "metadata": {},
     "output_type": "execute_result"
    }
   ],
   "source": [
    "list(filter(isEven, a )) "
   ]
  },
  {
   "cell_type": "markdown",
   "id": "d6a4d856-45e6-4af3-9695-728482c30e24",
   "metadata": {},
   "source": [
    "How? Here, in list if the value is True it will get printed and not then ignored. "
   ]
  },
  {
   "cell_type": "code",
   "execution_count": 76,
   "id": "7fd3b992-f2f0-48ba-880b-32f496e69059",
   "metadata": {},
   "outputs": [
    {
     "data": {
      "text/plain": [
       "[2, 4, 6, 8, 10]"
      ]
     },
     "execution_count": 76,
     "metadata": {},
     "output_type": "execute_result"
    }
   ],
   "source": [
    "list(filter(lambda x : x % 2 == 0, a)) "
   ]
  },
  {
   "cell_type": "code",
   "execution_count": 77,
   "id": "03a089a1-072a-49f7-8c43-e4809b6a3978",
   "metadata": {},
   "outputs": [
    {
     "ename": "SyntaxError",
     "evalue": "incomplete input (3017752026.py, line 3)",
     "output_type": "error",
     "traceback": [
      "\u001b[0;36m  Cell \u001b[0;32mIn[77], line 3\u001b[0;36m\u001b[0m\n\u001b[0;31m    # not working\u001b[0m\n\u001b[0m                 ^\u001b[0m\n\u001b[0;31mSyntaxError\u001b[0m\u001b[0;31m:\u001b[0m incomplete input\n"
     ]
    }
   ],
   "source": [
    "# Fun Fact: you can not use # inside function body for comment \n",
    "def fun(): \n",
    "    # not working"
   ]
  },
  {
   "cell_type": "code",
   "execution_count": 79,
   "id": "7987fd44-2b97-43dd-a96e-9af2aebcf27f",
   "metadata": {},
   "outputs": [],
   "source": [
    "# correct way  \n",
    "def fun():  \n",
    "    \"\"\"\n",
    "    should work\n",
    "    \"\"\""
   ]
  },
  {
   "cell_type": "code",
   "execution_count": 80,
   "id": "ae9cf1f8-bc08-4d41-b5d2-c17bb219a5cc",
   "metadata": {},
   "outputs": [],
   "source": [
    "# Fact check : Everything is object \n",
    "def multipy(x): \n",
    "    return 2*x "
   ]
  },
  {
   "cell_type": "code",
   "execution_count": 81,
   "id": "25e793e3-8c86-42c5-8b0b-c2aa19316dd4",
   "metadata": {},
   "outputs": [
    {
     "data": {
      "text/plain": [
       "True"
      ]
     },
     "execution_count": 81,
     "metadata": {},
     "output_type": "execute_result"
    }
   ],
   "source": [
    "isinstance(multiply, object)"
   ]
  },
  {
   "cell_type": "code",
   "execution_count": null,
   "id": "f916d019-15a4-4317-bb28-30897de74bef",
   "metadata": {},
   "outputs": [],
   "source": []
  }
 ],
 "metadata": {
  "kernelspec": {
   "display_name": "Python 3 (ipykernel)",
   "language": "python",
   "name": "python3"
  },
  "language_info": {
   "codemirror_mode": {
    "name": "ipython",
    "version": 3
   },
   "file_extension": ".py",
   "mimetype": "text/x-python",
   "name": "python",
   "nbconvert_exporter": "python",
   "pygments_lexer": "ipython3",
   "version": "3.11.4"
  }
 },
 "nbformat": 4,
 "nbformat_minor": 5
}
