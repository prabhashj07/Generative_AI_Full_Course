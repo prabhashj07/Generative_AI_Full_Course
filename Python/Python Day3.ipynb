{
 "cells": [
  {
   "cell_type": "markdown",
   "id": "e886a608-cdda-4b1d-aad8-906517e1644a",
   "metadata": {},
   "source": [
    "### Hiding some variables "
   ]
  },
  {
   "cell_type": "code",
   "execution_count": 9,
   "id": "2a48bb97-29d4-4b4f-a743-63ae6d76ecdb",
   "metadata": {},
   "outputs": [],
   "source": [
    "# private variables in python"
   ]
  },
  {
   "cell_type": "code",
   "execution_count": 2,
   "id": "3497a592-8544-496c-8579-53e085f66149",
   "metadata": {},
   "outputs": [],
   "source": [
    "class A: \n",
    "    def __init__(self, value):\n",
    "        self.__value = value\n",
    "        # add double _ to hide the value\n",
    "        # python changes __ value to _A__value"
   ]
  },
  {
   "cell_type": "code",
   "execution_count": 4,
   "id": "573b81d2-d02c-4238-bc03-c7fc81e53964",
   "metadata": {},
   "outputs": [],
   "source": [
    "object = A(89)"
   ]
  },
  {
   "cell_type": "code",
   "execution_count": 5,
   "id": "57e29bb0-f2a7-4e36-ada0-8e3d5a5f3ee4",
   "metadata": {},
   "outputs": [
    {
     "ename": "AttributeError",
     "evalue": "'A' object has no attribute '__value'",
     "output_type": "error",
     "traceback": [
      "\u001b[0;31m---------------------------------------------------------------------------\u001b[0m",
      "\u001b[0;31mAttributeError\u001b[0m                            Traceback (most recent call last)",
      "Cell \u001b[0;32mIn[5], line 1\u001b[0m\n\u001b[0;32m----> 1\u001b[0m \u001b[38;5;28;43mobject\u001b[39;49m\u001b[38;5;241;43m.\u001b[39;49m\u001b[43m__value\u001b[49m\n",
      "\u001b[0;31mAttributeError\u001b[0m: 'A' object has no attribute '__value'"
     ]
    }
   ],
   "source": [
    "object.__value"
   ]
  },
  {
   "cell_type": "code",
   "execution_count": 13,
   "id": "a8821e48-8052-45b6-96ae-51ffae2a83ed",
   "metadata": {},
   "outputs": [
    {
     "data": {
      "text/plain": [
       "89"
      ]
     },
     "execution_count": 13,
     "metadata": {},
     "output_type": "execute_result"
    }
   ],
   "source": [
    "object._A__value"
   ]
  },
  {
   "cell_type": "markdown",
   "id": "2e641718-9874-491d-aff2-0256e57d66f0",
   "metadata": {},
   "source": [
    "This is not really an private method. "
   ]
  },
  {
   "cell_type": "markdown",
   "id": "742363d1-7c21-4af5-a15f-20f6af8add28",
   "metadata": {},
   "source": [
    "There are three types of variable in python i.e. public, private (accessed on the same class ) and protected ( accessed only on the parent and child class ). These are known as access modifier which totally depends on the person writing the code. Access modifier are not good in \n",
    "python as c++/Java as private data is not even private in python we are able to access those data anyway. "
   ]
  },
  {
   "cell_type": "markdown",
   "id": "31ec47c5-12cc-44c7-bd18-c5c674a9f4d8",
   "metadata": {},
   "source": [
    "### Scoping "
   ]
  },
  {
   "cell_type": "code",
   "execution_count": 14,
   "id": "8e56f3e2-11c8-4c1e-a2bf-7d0d67173fce",
   "metadata": {},
   "outputs": [],
   "source": [
    "def fun(): \n",
    "    a = 10\n",
    "    "
   ]
  },
  {
   "cell_type": "code",
   "execution_count": 15,
   "id": "1ef52d67-3530-45a4-b782-e3d05370af87",
   "metadata": {},
   "outputs": [],
   "source": [
    "fun()"
   ]
  },
  {
   "cell_type": "code",
   "execution_count": 17,
   "id": "84d20548-854d-4a4f-9371-8a489e879423",
   "metadata": {},
   "outputs": [
    {
     "ename": "NameError",
     "evalue": "name 'a' is not defined",
     "output_type": "error",
     "traceback": [
      "\u001b[0;31m---------------------------------------------------------------------------\u001b[0m",
      "\u001b[0;31mNameError\u001b[0m                                 Traceback (most recent call last)",
      "Cell \u001b[0;32mIn[17], line 1\u001b[0m\n\u001b[0;32m----> 1\u001b[0m \u001b[38;5;28mprint\u001b[39m(\u001b[43ma\u001b[49m) \u001b[38;5;66;03m# cannot access the value outside the function\u001b[39;00m\n",
      "\u001b[0;31mNameError\u001b[0m: name 'a' is not defined"
     ]
    }
   ],
   "source": [
    "print(a) # cannot access the value outside the function"
   ]
  },
  {
   "cell_type": "code",
   "execution_count": 25,
   "id": "b6a1725c-0ea6-4ff1-a7e3-e5a3b4259061",
   "metadata": {},
   "outputs": [
    {
     "ename": "UnboundLocalError",
     "evalue": "cannot access local variable 'a' where it is not associated with a value",
     "output_type": "error",
     "traceback": [
      "\u001b[0;31m---------------------------------------------------------------------------\u001b[0m",
      "\u001b[0;31mUnboundLocalError\u001b[0m                         Traceback (most recent call last)",
      "Cell \u001b[0;32mIn[25], line 5\u001b[0m\n\u001b[1;32m      2\u001b[0m \u001b[38;5;28;01mdef\u001b[39;00m \u001b[38;5;21mfun\u001b[39m():\n\u001b[1;32m      3\u001b[0m     a \u001b[38;5;241m=\u001b[39m a \u001b[38;5;241m+\u001b[39m \u001b[38;5;241m20\u001b[39m \u001b[38;5;66;03m# local variable \u001b[39;00m\n\u001b[0;32m----> 5\u001b[0m \u001b[43mfun\u001b[49m\u001b[43m(\u001b[49m\u001b[43m)\u001b[49m\n",
      "Cell \u001b[0;32mIn[25], line 3\u001b[0m, in \u001b[0;36mfun\u001b[0;34m()\u001b[0m\n\u001b[1;32m      2\u001b[0m \u001b[38;5;28;01mdef\u001b[39;00m \u001b[38;5;21mfun\u001b[39m():\n\u001b[0;32m----> 3\u001b[0m     a \u001b[38;5;241m=\u001b[39m \u001b[43ma\u001b[49m \u001b[38;5;241m+\u001b[39m \u001b[38;5;241m20\u001b[39m\n",
      "\u001b[0;31mUnboundLocalError\u001b[0m: cannot access local variable 'a' where it is not associated with a value"
     ]
    }
   ],
   "source": [
    "a = 20  # global variable \n",
    "def fun():\n",
    "    a = a + 20 # local variable \n",
    "\n",
    "fun()"
   ]
  },
  {
   "cell_type": "markdown",
   "id": "ce52ddcf-1be5-465f-817e-00da4aac882b",
   "metadata": {},
   "source": [
    "In python, we can not change the value of the global scope should not come inside the local scope and should not change the value as global scope could be used in another local scopes( functions or any other) "
   ]
  },
  {
   "cell_type": "code",
   "execution_count": 26,
   "id": "c5b7ad51-3428-4bc3-bfbf-9b11fc866cf6",
   "metadata": {},
   "outputs": [],
   "source": [
    "a = 30 \n",
    "def fun(): \n",
    "    a = 60 # local variable of function fun()\n",
    "    a = a + 34\n",
    "    print(a)"
   ]
  },
  {
   "cell_type": "code",
   "execution_count": 27,
   "id": "8aba472e-4b10-404f-9c12-2bb2b29df22a",
   "metadata": {},
   "outputs": [
    {
     "name": "stdout",
     "output_type": "stream",
     "text": [
      "94\n"
     ]
    }
   ],
   "source": [
    "fun()"
   ]
  },
  {
   "cell_type": "code",
   "execution_count": 28,
   "id": "cf1f1f34-5437-4c04-a330-d25c8464b0a5",
   "metadata": {},
   "outputs": [
    {
     "data": {
      "text/plain": [
       "30"
      ]
     },
     "execution_count": 28,
     "metadata": {},
     "output_type": "execute_result"
    }
   ],
   "source": [
    "a # Global variable # you can access the global variable but can not change directly"
   ]
  },
  {
   "cell_type": "code",
   "execution_count": 29,
   "id": "d2e76072-487c-4e4b-9a48-d0ad2f6a5dfe",
   "metadata": {},
   "outputs": [
    {
     "name": "stdout",
     "output_type": "stream",
     "text": [
      "<function a at 0x7f352adf72e0>\n"
     ]
    }
   ],
   "source": [
    "# more examples \n",
    "a = 45  # Global variable 'a' assigned the value 45\n",
    "\n",
    "def a():  # Function definition named 'a'\n",
    "    print(a)  # Inside the function, 'a' refers to the function itself\n",
    "\n",
    "a()  # Call the function named 'a'"
   ]
  },
  {
   "cell_type": "code",
   "execution_count": 30,
   "id": "f7a0b1f3-0221-407d-9e9e-d1765859c042",
   "metadata": {},
   "outputs": [
    {
     "name": "stdout",
     "output_type": "stream",
     "text": [
      "345\n"
     ]
    }
   ],
   "source": [
    "# more examples \n",
    "a = 345\n",
    "\n",
    "def abc():\n",
    "    print(a) # global value accessed\n",
    "\n",
    "abc()"
   ]
  },
  {
   "cell_type": "markdown",
   "id": "caff99b9-cf83-4515-8592-2615c4e27213",
   "metadata": {},
   "source": [
    "**LGEB Rule**: Local Enclosed Global Builtin Rule \n",
    "- At first it will check the variable values in local and then enclosed ie function inside the function then global and last in built-in"
   ]
  },
  {
   "cell_type": "code",
   "execution_count": 31,
   "id": "56614f5c-541e-4a3c-951a-d2e5da109908",
   "metadata": {},
   "outputs": [],
   "source": [
    "a = 67 \n",
    "\n",
    "def x():\n",
    "    a = 10 # this is local to x \n",
    "    # this a = 10, this is enclosed for y()\n",
    "    \n",
    "    def y():\n",
    "        a = 660 # this is local to y \n",
    "        print(\"a in y() is\", a)\n",
    "\n",
    "    print(\"a in x() is\",a)\n",
    "    return y()"
   ]
  },
  {
   "cell_type": "code",
   "execution_count": 32,
   "id": "7c76193d-ed12-4c6c-9d6e-4b6ddc1b0a91",
   "metadata": {},
   "outputs": [
    {
     "name": "stdout",
     "output_type": "stream",
     "text": [
      "a in x() is 10\n",
      "a in y() is 660\n"
     ]
    }
   ],
   "source": [
    "x()"
   ]
  },
  {
   "cell_type": "code",
   "execution_count": 33,
   "id": "4b909ec1-29e3-4728-ab7e-6918baf902a5",
   "metadata": {},
   "outputs": [],
   "source": [
    "# let's check the locals \n",
    "a = 67 \n",
    "\n",
    "def x():\n",
    "    a = 10 # this is local to x \n",
    "    # this a = 10, this is enclosed for y()\n",
    "    \n",
    "    def y():\n",
    "        a = 660 # this is local to y \n",
    "        print(\"a in y() is\", a)\n",
    "        print(\"locals for y are:\", locals())\n",
    "\n",
    "    print(\"a in x() is\",a)\n",
    "    print(\"locals for x are\",locals())\n",
    "    return y()"
   ]
  },
  {
   "cell_type": "code",
   "execution_count": 34,
   "id": "91854ec9-70c5-41b1-8e62-75135c182e0c",
   "metadata": {},
   "outputs": [
    {
     "name": "stdout",
     "output_type": "stream",
     "text": [
      "a in x() is 10\n",
      "locals for x are {'a': 10, 'y': <function x.<locals>.y at 0x7f352adf79c0>}\n",
      "a in y() is 660\n",
      "locals for y are: {'a': 660}\n"
     ]
    }
   ],
   "source": [
    "x()"
   ]
  },
  {
   "cell_type": "code",
   "execution_count": 35,
   "id": "c4d83c67-7af4-4660-8dba-015d53db0265",
   "metadata": {},
   "outputs": [],
   "source": [
    "a = 67 \n",
    "\n",
    "def x():\n",
    "    a = 10 # this is local to x \n",
    "    # this a = 10, this is enclosed for y()\n",
    "    \n",
    "    def y():\n",
    "        a += 660 # this is local to y \n",
    "        print(\"a in y() is\", a)\n",
    "        print(\"locals for y are:\", locals())\n",
    "\n",
    "    print(\"a in x() is\",a)\n",
    "    print(\"locals for x are\",locals())\n",
    "    return y()"
   ]
  },
  {
   "cell_type": "code",
   "execution_count": 36,
   "id": "e4a6e060-fe1b-4ee0-8378-2d104047127d",
   "metadata": {},
   "outputs": [
    {
     "name": "stdout",
     "output_type": "stream",
     "text": [
      "a in x() is 10\n",
      "locals for x are {'a': 10, 'y': <function x.<locals>.y at 0x7f352adf7920>}\n"
     ]
    },
    {
     "ename": "UnboundLocalError",
     "evalue": "cannot access local variable 'a' where it is not associated with a value",
     "output_type": "error",
     "traceback": [
      "\u001b[0;31m---------------------------------------------------------------------------\u001b[0m",
      "\u001b[0;31mUnboundLocalError\u001b[0m                         Traceback (most recent call last)",
      "Cell \u001b[0;32mIn[36], line 1\u001b[0m\n\u001b[0;32m----> 1\u001b[0m \u001b[43mx\u001b[49m\u001b[43m(\u001b[49m\u001b[43m)\u001b[49m\n",
      "Cell \u001b[0;32mIn[35], line 14\u001b[0m, in \u001b[0;36mx\u001b[0;34m()\u001b[0m\n\u001b[1;32m     12\u001b[0m \u001b[38;5;28mprint\u001b[39m(\u001b[38;5;124m\"\u001b[39m\u001b[38;5;124ma in x() is\u001b[39m\u001b[38;5;124m\"\u001b[39m,a)\n\u001b[1;32m     13\u001b[0m \u001b[38;5;28mprint\u001b[39m(\u001b[38;5;124m\"\u001b[39m\u001b[38;5;124mlocals for x are\u001b[39m\u001b[38;5;124m\"\u001b[39m,\u001b[38;5;28mlocals\u001b[39m())\n\u001b[0;32m---> 14\u001b[0m \u001b[38;5;28;01mreturn\u001b[39;00m \u001b[43my\u001b[49m\u001b[43m(\u001b[49m\u001b[43m)\u001b[49m\n",
      "Cell \u001b[0;32mIn[35], line 8\u001b[0m, in \u001b[0;36mx.<locals>.y\u001b[0;34m()\u001b[0m\n\u001b[1;32m      7\u001b[0m \u001b[38;5;28;01mdef\u001b[39;00m \u001b[38;5;21my\u001b[39m():\n\u001b[0;32m----> 8\u001b[0m     \u001b[43ma\u001b[49m \u001b[38;5;241m+\u001b[39m\u001b[38;5;241m=\u001b[39m \u001b[38;5;241m660\u001b[39m \u001b[38;5;66;03m# this is local to y \u001b[39;00m\n\u001b[1;32m      9\u001b[0m     \u001b[38;5;28mprint\u001b[39m(\u001b[38;5;124m\"\u001b[39m\u001b[38;5;124ma in y() is\u001b[39m\u001b[38;5;124m\"\u001b[39m, a)\n\u001b[1;32m     10\u001b[0m     \u001b[38;5;28mprint\u001b[39m(\u001b[38;5;124m\"\u001b[39m\u001b[38;5;124mlocals for y are:\u001b[39m\u001b[38;5;124m\"\u001b[39m, \u001b[38;5;28mlocals\u001b[39m())\n",
      "\u001b[0;31mUnboundLocalError\u001b[0m: cannot access local variable 'a' where it is not associated with a value"
     ]
    }
   ],
   "source": [
    "x()"
   ]
  },
  {
   "cell_type": "markdown",
   "id": "698c86e3-e062-4f6c-8912-7104e629312f",
   "metadata": {},
   "source": [
    "Here, the python is not letting us to change the value of x = 10 ( local variable to x) "
   ]
  },
  {
   "cell_type": "code",
   "execution_count": 37,
   "id": "cb697f00-7437-4064-a609-fb421d9c6485",
   "metadata": {},
   "outputs": [],
   "source": [
    "a = 67 \n",
    "\n",
    "def x():\n",
    "    a = 10 # this is local to x \n",
    "    # this a = 10, this is enclosed for y()\n",
    "    \n",
    "    def y():\n",
    "        nonlocal a\n",
    "        a += 660 # this is local to y \n",
    "        print(\"a in y() is\", a)\n",
    "        print(\"locals for y are:\", locals())\n",
    "\n",
    "    print(\"a in x() is\",a)\n",
    "    print(\"locals for x are\",locals())\n",
    "    return y()"
   ]
  },
  {
   "cell_type": "code",
   "execution_count": 38,
   "id": "d9bc9615-f609-47f3-a98e-f2234e2c9efd",
   "metadata": {},
   "outputs": [
    {
     "name": "stdout",
     "output_type": "stream",
     "text": [
      "a in x() is 10\n",
      "locals for x are {'y': <function x.<locals>.y at 0x7f352acd8680>, 'a': 10}\n",
      "a in y() is 670\n",
      "locals for y are: {'a': 670}\n"
     ]
    }
   ],
   "source": [
    "x()"
   ]
  },
  {
   "cell_type": "code",
   "execution_count": 6,
   "id": "65db5bdf-d726-427b-9a70-4cb608f2a16f",
   "metadata": {},
   "outputs": [
    {
     "name": "stdout",
     "output_type": "stream",
     "text": [
      "10\n",
      "20\n",
      "60\n",
      "160\n",
      "160\n"
     ]
    }
   ],
   "source": [
    "x = 10 \n",
    "\n",
    "def a():\n",
    "    x = 20\n",
    "\n",
    "    def b():\n",
    "        x = 60\n",
    "\n",
    "        def c(): \n",
    "            nonlocal x\n",
    "            x += 100\n",
    "            print(x)\n",
    "\n",
    "        print(x)\n",
    "        c()\n",
    "        print(x) # after running the function c # 160\n",
    "        \n",
    "    print(x)\n",
    "    b()\n",
    "\n",
    "print(x)\n",
    "a()"
   ]
  },
  {
   "cell_type": "code",
   "execution_count": 45,
   "id": "74a4ade3-097f-4feb-ae7e-10398b08e2ca",
   "metadata": {},
   "outputs": [
    {
     "name": "stdout",
     "output_type": "stream",
     "text": [
      "10\n",
      "20\n",
      "60\n",
      "110\n",
      "60\n"
     ]
    }
   ],
   "source": [
    "x = 10 \n",
    "\n",
    "def a():\n",
    "    x = 20\n",
    "\n",
    "    def b():\n",
    "        x = 60\n",
    "\n",
    "        def c(): \n",
    "            global x\n",
    "            x += 100\n",
    "            print(x)\n",
    "\n",
    "        print(x)\n",
    "        c()\n",
    "        print(x) # after running the function c \n",
    "        \n",
    "    print(x)\n",
    "    b()\n",
    "\n",
    "print(x)\n",
    "a()"
   ]
  },
  {
   "cell_type": "markdown",
   "id": "97fea6b8-9216-4103-9e0f-8510cdc3c099",
   "metadata": {},
   "source": [
    "### Closure "
   ]
  },
  {
   "cell_type": "code",
   "execution_count": 50,
   "id": "82986ca6-d6ac-41b3-a687-96f4769d391e",
   "metadata": {},
   "outputs": [],
   "source": [
    "def outer_fun():\n",
    "    name = \"Prabhash\"\n",
    "\n",
    "    def inner_fun():\n",
    "        print(name)\n",
    "\n",
    "    return inner_fun"
   ]
  },
  {
   "cell_type": "code",
   "execution_count": 55,
   "id": "ea4360c0-05fc-46b6-9002-f3b747eaba5f",
   "metadata": {},
   "outputs": [],
   "source": [
    "my_fun = outer_fun() # my_fun = inner_fun() # I am basically doing this "
   ]
  },
  {
   "cell_type": "code",
   "execution_count": 56,
   "id": "97be14a7-4de7-4106-96ec-ba3af57f86af",
   "metadata": {},
   "outputs": [
    {
     "name": "stdout",
     "output_type": "stream",
     "text": [
      "Prabhash\n"
     ]
    }
   ],
   "source": [
    "my_fun()"
   ]
  },
  {
   "cell_type": "code",
   "execution_count": 60,
   "id": "9ff9cdcc-1725-4e83-b390-094620695481",
   "metadata": {},
   "outputs": [],
   "source": [
    "def outer_fun():\n",
    "    name = \"Prabhash\"\n",
    "\n",
    "    def inner_fun():\n",
    "        print(\"locals of inner fun are:\", locals())\n",
    "        print(name) # free variable\n",
    "\n",
    "    return inner_fun"
   ]
  },
  {
   "cell_type": "code",
   "execution_count": 61,
   "id": "88acdfc9-79cd-47e4-97fe-a393e9bba789",
   "metadata": {},
   "outputs": [],
   "source": [
    "my_fun = outer_fun()"
   ]
  },
  {
   "cell_type": "code",
   "execution_count": 62,
   "id": "1ed6f377-1c42-4820-bf9a-25e5100d0600",
   "metadata": {},
   "outputs": [
    {
     "name": "stdout",
     "output_type": "stream",
     "text": [
      "locals of inner fun are: {'name': 'Prabhash'}\n",
      "Prabhash\n"
     ]
    }
   ],
   "source": [
    "my_fun()"
   ]
  },
  {
   "cell_type": "code",
   "execution_count": 63,
   "id": "cfc46598-ce7e-464a-81b0-12a96618febb",
   "metadata": {},
   "outputs": [],
   "source": [
    "def add(a):\n",
    "    def addition(b):\n",
    "        return a + b\n",
    "    return addition"
   ]
  },
  {
   "cell_type": "code",
   "execution_count": 64,
   "id": "918cd02d-2568-45b9-ac72-978c598462fa",
   "metadata": {},
   "outputs": [],
   "source": [
    "a = add(2) "
   ]
  },
  {
   "cell_type": "code",
   "execution_count": 66,
   "id": "ae0ff133-7370-4bac-a35e-bb150eeee208",
   "metadata": {},
   "outputs": [
    {
     "data": {
      "text/plain": [
       "5"
      ]
     },
     "execution_count": 66,
     "metadata": {},
     "output_type": "execute_result"
    }
   ],
   "source": [
    "a(3)"
   ]
  },
  {
   "cell_type": "code",
   "execution_count": 67,
   "id": "ef57c3cf-6516-4514-b812-4a51dac26114",
   "metadata": {},
   "outputs": [
    {
     "data": {
      "text/plain": [
       "356567880"
      ]
     },
     "execution_count": 67,
     "metadata": {},
     "output_type": "execute_result"
    }
   ],
   "source": [
    "a(356567878)"
   ]
  },
  {
   "cell_type": "code",
   "execution_count": 69,
   "id": "0a4e6dab-d95b-48f0-8fbd-f88cc5ad9557",
   "metadata": {},
   "outputs": [
    {
     "data": {
      "text/plain": [
       "356567883"
      ]
     },
     "execution_count": 69,
     "metadata": {},
     "output_type": "execute_result"
    }
   ],
   "source": [
    "5 + 356567878"
   ]
  },
  {
   "cell_type": "code",
   "execution_count": 71,
   "id": "ab105370-2075-432c-80d1-47e293313cbc",
   "metadata": {},
   "outputs": [
    {
     "data": {
      "text/plain": [
       "356567880"
      ]
     },
     "execution_count": 71,
     "metadata": {},
     "output_type": "execute_result"
    }
   ],
   "source": [
    "2 + 356567878 # this is the calculation happening here"
   ]
  },
  {
   "cell_type": "markdown",
   "id": "87985b17-2698-470b-967a-29e29cbb1763",
   "metadata": {},
   "source": [
    "Usage of Closure: Data Hiding and Decorators"
   ]
  },
  {
   "cell_type": "markdown",
   "id": "404cf5e9-7c9c-4718-9924-1b7f7bb85c07",
   "metadata": {},
   "source": [
    "They stores values in their locals. "
   ]
  },
  {
   "cell_type": "code",
   "execution_count": 72,
   "id": "22872e93-6eed-403c-b39e-38f71c30a9fa",
   "metadata": {},
   "outputs": [],
   "source": [
    "def add(a):\n",
    "    def addition(b):\n",
    "        print(locals())\n",
    "        return a + b\n",
    "    return addition"
   ]
  },
  {
   "cell_type": "code",
   "execution_count": 73,
   "id": "d4b67d27-39e0-45e9-8408-39df97660dfc",
   "metadata": {},
   "outputs": [],
   "source": [
    "a = add(3)"
   ]
  },
  {
   "cell_type": "code",
   "execution_count": 74,
   "id": "466f5892-3d51-4deb-9b25-61cc97b0d5c6",
   "metadata": {},
   "outputs": [
    {
     "name": "stdout",
     "output_type": "stream",
     "text": [
      "{'b': 5, 'a': 3}\n"
     ]
    },
    {
     "data": {
      "text/plain": [
       "8"
      ]
     },
     "execution_count": 74,
     "metadata": {},
     "output_type": "execute_result"
    }
   ],
   "source": [
    "a(5)"
   ]
  },
  {
   "cell_type": "code",
   "execution_count": null,
   "id": "dcda6d6e-8097-4cf7-8177-7bc694223e65",
   "metadata": {},
   "outputs": [],
   "source": []
  }
 ],
 "metadata": {
  "kernelspec": {
   "display_name": "Python 3 (ipykernel)",
   "language": "python",
   "name": "python3"
  },
  "language_info": {
   "codemirror_mode": {
    "name": "ipython",
    "version": 3
   },
   "file_extension": ".py",
   "mimetype": "text/x-python",
   "name": "python",
   "nbconvert_exporter": "python",
   "pygments_lexer": "ipython3",
   "version": "3.11.4"
  }
 },
 "nbformat": 4,
 "nbformat_minor": 5
}
